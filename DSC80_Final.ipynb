{
 "cells": [
  {
   "cell_type": "markdown",
   "metadata": {},
   "source": [
    "# Predicting Power Outages and Their Cause\n",
    "\n",
    "**Name(s)**: Ava Jeong and Charlene Hsu\n",
    "\n",
    "**Website Link**: https://github.com/charl3n3hsu/DSC80_Final_Proj"
   ]
  },
  {
   "cell_type": "code",
   "execution_count": 1,
   "metadata": {
    "scrolled": true
   },
   "outputs": [
    {
     "name": "stdout",
     "output_type": "stream",
     "text": [
      "Requirement already satisfied: tabulate in /opt/anaconda3/envs/dsc80/lib/python3.12/site-packages (0.9.0)\n",
      "Note: you may need to restart the kernel to use updated packages.\n"
     ]
    }
   ],
   "source": [
    "pip install tabulate"
   ]
  },
  {
   "cell_type": "code",
   "execution_count": 2,
   "metadata": {},
   "outputs": [],
   "source": [
    "from dsc80_utils import *\n",
    "\n",
    "from scipy.stats import kruskal\n",
    "from sklearn.impute import SimpleImputer\n",
    "from sklearn.model_selection import train_test_split, GridSearchCV\n",
    "from sklearn.pipeline import Pipeline\n",
    "from sklearn.preprocessing import FunctionTransformer\n",
    "from sklearn.compose import ColumnTransformer\n",
    "from sklearn.preprocessing import OneHotEncoder\n",
    "from sklearn.linear_model import LinearRegression\n",
    "from sklearn.metrics import mean_squared_error, r2_score\n",
    "from sklearn.preprocessing import PolynomialFeatures\n",
    "np.random.seed(42)"
   ]
  },
  {
   "cell_type": "markdown",
   "metadata": {},
   "source": [
    "## Introduction"
   ]
  },
  {
   "cell_type": "markdown",
   "metadata": {
    "jp-MarkdownHeadingCollapsed": true
   },
   "source": [
    "Power outages information and data is constantly updated as outages across the United States provide for thousands of data for various regions. This dataset on power outages provides detailed records of major power outages across the United States across several years. Information on regional, geographical data on the outages, climate factors, causes of the power outages, the durations of outages (including the start and restoration times of the outage), population affected, and economical effects of the outage are detailedly provided through this dataset.\n",
    "\n",
    "Outages in power can have significant economic and safety effects, making this dataset highly useful for understanding patterns in outages and improving power infrastructures by understanding the factors that lead to an outage. This leads to the research question to be analyzed and answered through this project: What causes influence the duration of major power outages? And from that, using our findings, can we predict power outage durations based on these factors?\n",
    "\n",
    "This analysis is important in allowing us to understand the major causes of power outages, allowing businesses, utility companies, policymakers, and emergency responders to better adapt to these factors as outages affect millions of people and businesses every year. Being able to understand this question and make predictions for the duration of power outages can accommodate better preparation for outages and mitigate the impact of them, which allows for improved policies, infrastructure, faster response times, and reduced economic losses.\n",
    "\n"
   ]
  },
  {
   "cell_type": "markdown",
   "metadata": {},
   "source": [
    "### Dataset Overview\n",
    "\n",
    "The number of rows (meaning number of outages recorded) in this data is 1534 rows.\n",
    "The relevant columns to assist in answering the research questions consist of ‘CLIMATE.CATEGORY’, ‘CAUSE.CATEGORY’, ‘OUTAGE.DURATION’.\n",
    "- ‘CLIMATE.CATEGORY’: a categorical variable that classifies the type of climate that the power outage occurred in\n",
    "- ‘CAUSE.CATEGORY’: a categorical variable that classifies the cause of the power outage\n",
    "- 'DEMAND.LOSS.MW': a numerical variable that measures the scale of the impact of the outage by reporting the amount of demand loss in megawatts (MW) due to the outage\n",
    "- 'CUSTOMERS.AFFECTED': a numerical variable that reports the number of customers that were affected by the outage\n",
    "- ‘OUTAGE.DURATION’: a numerical variable that indicates how long the power outage lasted\n",
    "\n",
    "Through understanding these columns and features, it allows us to identify a commonality amongst the causes and its relationship with the duration of the outages and make predictions by building a predictive model to estimate how long future outages may last.\n"
   ]
  },
  {
   "cell_type": "markdown",
   "metadata": {},
   "source": [
    "## Data Cleaning and Exploratory Data Analysis"
   ]
  },
  {
   "cell_type": "code",
   "execution_count": 3,
   "metadata": {
    "ExecuteTime": {
     "end_time": "2019-10-31T23:36:28.657068Z",
     "start_time": "2019-10-31T23:36:28.654650Z"
    }
   },
   "outputs": [
    {
     "data": {
      "text/html": [
       "<div>\n",
       "<style scoped>\n",
       "    .dataframe tbody tr th:only-of-type {\n",
       "        vertical-align: middle;\n",
       "    }\n",
       "\n",
       "    .dataframe tbody tr th {\n",
       "        vertical-align: top;\n",
       "    }\n",
       "\n",
       "    .dataframe thead th {\n",
       "        text-align: right;\n",
       "    }\n",
       "</style>\n",
       "<table border=\"1\" class=\"dataframe\">\n",
       "  <thead>\n",
       "    <tr style=\"text-align: right;\">\n",
       "      <th></th>\n",
       "      <th>variables</th>\n",
       "      <th>OBS</th>\n",
       "      <th>YEAR</th>\n",
       "      <th>MONTH</th>\n",
       "      <th>...</th>\n",
       "      <th>AREAPCT_UC</th>\n",
       "      <th>PCT_LAND</th>\n",
       "      <th>PCT_WATER_TOT</th>\n",
       "      <th>PCT_WATER_INLAND</th>\n",
       "    </tr>\n",
       "  </thead>\n",
       "  <tbody>\n",
       "    <tr>\n",
       "      <th>1</th>\n",
       "      <td>NaN</td>\n",
       "      <td>1.0</td>\n",
       "      <td>2011.0</td>\n",
       "      <td>7.0</td>\n",
       "      <td>...</td>\n",
       "      <td>0.6</td>\n",
       "      <td>91.59266587</td>\n",
       "      <td>8.407334131</td>\n",
       "      <td>5.478742983</td>\n",
       "    </tr>\n",
       "    <tr>\n",
       "      <th>2</th>\n",
       "      <td>NaN</td>\n",
       "      <td>2.0</td>\n",
       "      <td>2014.0</td>\n",
       "      <td>5.0</td>\n",
       "      <td>...</td>\n",
       "      <td>0.6</td>\n",
       "      <td>91.59266587</td>\n",
       "      <td>8.407334131</td>\n",
       "      <td>5.478742983</td>\n",
       "    </tr>\n",
       "    <tr>\n",
       "      <th>3</th>\n",
       "      <td>NaN</td>\n",
       "      <td>3.0</td>\n",
       "      <td>2010.0</td>\n",
       "      <td>10.0</td>\n",
       "      <td>...</td>\n",
       "      <td>0.6</td>\n",
       "      <td>91.59266587</td>\n",
       "      <td>8.407334131</td>\n",
       "      <td>5.478742983</td>\n",
       "    </tr>\n",
       "    <tr>\n",
       "      <th>...</th>\n",
       "      <td>...</td>\n",
       "      <td>...</td>\n",
       "      <td>...</td>\n",
       "      <td>...</td>\n",
       "      <td>...</td>\n",
       "      <td>...</td>\n",
       "      <td>...</td>\n",
       "      <td>...</td>\n",
       "      <td>...</td>\n",
       "    </tr>\n",
       "    <tr>\n",
       "      <th>1532</th>\n",
       "      <td>NaN</td>\n",
       "      <td>1532.0</td>\n",
       "      <td>2009.0</td>\n",
       "      <td>8.0</td>\n",
       "      <td>...</td>\n",
       "      <td>0.15</td>\n",
       "      <td>98.30774418</td>\n",
       "      <td>1.692255822</td>\n",
       "      <td>1.692255822</td>\n",
       "    </tr>\n",
       "    <tr>\n",
       "      <th>1533</th>\n",
       "      <td>NaN</td>\n",
       "      <td>1533.0</td>\n",
       "      <td>2009.0</td>\n",
       "      <td>8.0</td>\n",
       "      <td>...</td>\n",
       "      <td>0.15</td>\n",
       "      <td>98.30774418</td>\n",
       "      <td>1.692255822</td>\n",
       "      <td>1.692255822</td>\n",
       "    </tr>\n",
       "    <tr>\n",
       "      <th>1534</th>\n",
       "      <td>NaN</td>\n",
       "      <td>1534.0</td>\n",
       "      <td>2000.0</td>\n",
       "      <td>NaN</td>\n",
       "      <td>...</td>\n",
       "      <td>0.02</td>\n",
       "      <td>85.76115446</td>\n",
       "      <td>14.23884554</td>\n",
       "      <td>2.901181874</td>\n",
       "    </tr>\n",
       "  </tbody>\n",
       "</table>\n",
       "<p>1534 rows × 57 columns</p>\n",
       "</div>"
      ],
      "text/plain": [
       "     variables     OBS    YEAR  MONTH  ... AREAPCT_UC     PCT_LAND  \\\n",
       "1          NaN     1.0  2011.0    7.0  ...        0.6  91.59266587   \n",
       "2          NaN     2.0  2014.0    5.0  ...        0.6  91.59266587   \n",
       "3          NaN     3.0  2010.0   10.0  ...        0.6  91.59266587   \n",
       "...        ...     ...     ...    ...  ...        ...          ...   \n",
       "1532       NaN  1532.0  2009.0    8.0  ...       0.15  98.30774418   \n",
       "1533       NaN  1533.0  2009.0    8.0  ...       0.15  98.30774418   \n",
       "1534       NaN  1534.0  2000.0    NaN  ...       0.02  85.76115446   \n",
       "\n",
       "     PCT_WATER_TOT PCT_WATER_INLAND  \n",
       "1      8.407334131      5.478742983  \n",
       "2      8.407334131      5.478742983  \n",
       "3      8.407334131      5.478742983  \n",
       "...            ...              ...  \n",
       "1532   1.692255822      1.692255822  \n",
       "1533   1.692255822      1.692255822  \n",
       "1534   14.23884554      2.901181874  \n",
       "\n",
       "[1534 rows x 57 columns]"
      ]
     },
     "execution_count": 3,
     "metadata": {},
     "output_type": "execute_result"
    }
   ],
   "source": [
    "outages = pd.read_csv('outages.csv')\n",
    "outages = outages.iloc[1:] # Gets rid of row that is initially units for each column\n",
    "outages"
   ]
  },
  {
   "cell_type": "code",
   "execution_count": 4,
   "metadata": {
    "scrolled": true
   },
   "outputs": [
    {
     "data": {
      "text/plain": [
       "Index(['variables', 'OBS', 'YEAR', 'MONTH', 'U.S._STATE', 'POSTAL.CODE',\n",
       "       'NERC.REGION', 'CLIMATE.REGION', 'ANOMALY.LEVEL', 'CLIMATE.CATEGORY',\n",
       "       'OUTAGE.START.DATE', 'OUTAGE.START.TIME', 'OUTAGE.RESTORATION.DATE',\n",
       "       'OUTAGE.RESTORATION.TIME', 'CAUSE.CATEGORY', 'CAUSE.CATEGORY.DETAIL',\n",
       "       'HURRICANE.NAMES', 'OUTAGE.DURATION', 'DEMAND.LOSS.MW',\n",
       "       'CUSTOMERS.AFFECTED', 'RES.PRICE', 'COM.PRICE', 'IND.PRICE',\n",
       "       'TOTAL.PRICE', 'RES.SALES', 'COM.SALES', 'IND.SALES', 'TOTAL.SALES',\n",
       "       'RES.PERCEN', 'COM.PERCEN', 'IND.PERCEN', 'RES.CUSTOMERS',\n",
       "       'COM.CUSTOMERS', 'IND.CUSTOMERS', 'TOTAL.CUSTOMERS', 'RES.CUST.PCT',\n",
       "       'COM.CUST.PCT', 'IND.CUST.PCT', 'PC.REALGSP.STATE', 'PC.REALGSP.USA',\n",
       "       'PC.REALGSP.REL', 'PC.REALGSP.CHANGE', 'UTIL.REALGSP', 'TOTAL.REALGSP',\n",
       "       'UTIL.CONTRI', 'PI.UTIL.OFUSA', 'POPULATION', 'POPPCT_URBAN',\n",
       "       'POPPCT_UC', 'POPDEN_URBAN', 'POPDEN_UC', 'POPDEN_RURAL',\n",
       "       'AREAPCT_URBAN', 'AREAPCT_UC', 'PCT_LAND', 'PCT_WATER_TOT',\n",
       "       'PCT_WATER_INLAND'],\n",
       "      dtype='object')"
      ]
     },
     "execution_count": 4,
     "metadata": {},
     "output_type": "execute_result"
    }
   ],
   "source": [
    "outages.columns # All columns"
   ]
  },
  {
   "cell_type": "code",
   "execution_count": 5,
   "metadata": {},
   "outputs": [],
   "source": [
    "# Keeping relevant columns\n",
    "outages = outages[['YEAR', 'MONTH', 'U.S._STATE',\n",
    "       'CLIMATE.REGION', 'ANOMALY.LEVEL', 'CLIMATE.CATEGORY',\n",
    "       'OUTAGE.START.DATE', 'OUTAGE.START.TIME', 'OUTAGE.RESTORATION.DATE',\n",
    "       'OUTAGE.RESTORATION.TIME', 'CAUSE.CATEGORY', 'CAUSE.CATEGORY.DETAIL',\n",
    "       'HURRICANE.NAMES', 'OUTAGE.DURATION', 'DEMAND.LOSS.MW', 'CUSTOMERS.AFFECTED', 'POPULATION', 'POPPCT_URBAN',\n",
    "       'POPDEN_URBAN', 'POPDEN_UC', 'POPDEN_RURAL',\n",
    "       'AREAPCT_URBAN', 'AREAPCT_UC', 'PCT_LAND', 'PCT_WATER_TOT',\n",
    "       'PCT_WATER_INLAND']]"
   ]
  },
  {
   "cell_type": "markdown",
   "metadata": {},
   "source": [
    "The original dataset consisted of 57 columns, many of which were not of importance to our prediction problems. We chose to only select columns that we believed were important in analyzing/predicting the duration of power outages.\n",
    "\n",
    "Some of these columns include:\n",
    "- Time: MONTH, YEAR\n",
    "- Location: U.S._STATE, CLIMATE.REGION\n",
    "- Cause-Related: CAUSE.CATEGORY, CAUSE.CATEGORY.DETAIL,\n",
    "- Outage Duration: OUTAGE.DURATION (Our Target Variable)\n",
    "- Other Potentially Useful Features: CUSTOMERS.AFFECTED, POPULATION, POPPCT_URBAN, AREAPCT_URBAN, AREAPCT_UC, PCT_LAND, PCT_WATER_TOT, PCT_WATER_INLAND"
   ]
  },
  {
   "cell_type": "code",
   "execution_count": 6,
   "metadata": {},
   "outputs": [
    {
     "name": "stdout",
     "output_type": "stream",
     "text": [
      "Missing Values:\n",
      " MONTH                   9\n",
      "CLIMATE.REGION          6\n",
      "CAUSE.CATEGORY          0\n",
      "OUTAGE.DURATION        58\n",
      "DEMAND.LOSS.MW        705\n",
      "CUSTOMERS.AFFECTED    443\n",
      "dtype: int64\n"
     ]
    }
   ],
   "source": [
    "# Checking for any missing values for our target features\n",
    "missing_values = outages[['MONTH', 'CLIMATE.REGION', 'CAUSE.CATEGORY', 'OUTAGE.DURATION', 'DEMAND.LOSS.MW', 'CUSTOMERS.AFFECTED']].isnull().sum()\n",
    "print(\"Missing Values:\\n\", missing_values)"
   ]
  },
  {
   "cell_type": "markdown",
   "metadata": {},
   "source": [
    "After keeping the relevant columns, we checked the dataframe to see if there were any missing values using .isnull().sum(), which showed that the 'MONTH' column has 9 missing values, 'CLIMATE.REGION' has 6 missing values, 'OUTAGE.DURATION' has 58 missing values, 'DEMAND.LOSS.MW' has 705 missing values, and 'CUSTOMERS.AFFECTED' has 443 missing values.\n",
    "\n",
    "To clean this data we will need to impute the entire dataset to account for all missing values for both numerical and categorical columns. "
   ]
  },
  {
   "cell_type": "code",
   "execution_count": 7,
   "metadata": {
    "scrolled": true
   },
   "outputs": [],
   "source": [
    "# Imputation for the entire dataset (both numerical and categorical)\n",
    "outages['OUTAGE.DURATION'] = pd.to_numeric(outages['OUTAGE.DURATION'], errors='coerce') # Response variable\n",
    "outages['OUTAGE.DURATION'] = outages.groupby('CAUSE.CATEGORY')['OUTAGE.DURATION'].transform(lambda x: x.fillna(x.median()))\n",
    "\n",
    "# Making sure the features we will use later on is the correct type\n",
    "outages['DEMAND.LOSS.MW'] = outages['DEMAND.LOSS.MW'].astype(float)\n",
    "outages['CUSTOMERS.AFFECTED'] = outages['CUSTOMERS.AFFECTED'].astype(float)\n",
    "\n",
    "def impute_missing_values(df):\n",
    "    df_imputed = df.copy()\n",
    "\n",
    "    numerical_columns = df_imputed.select_dtypes(include=['number']).columns\n",
    "    categorical_columns = df_imputed.select_dtypes(include=['object', 'category']).columns\n",
    "\n",
    "    if len(numerical_columns) > 0:\n",
    "        numerical_imputer = SimpleImputer(strategy='median')\n",
    "        df_imputed[numerical_columns] = numerical_imputer.fit_transform(df_imputed[numerical_columns])\n",
    "\n",
    "    if len(categorical_columns) > 0:\n",
    "        categorical_imputer = SimpleImputer(strategy='most_frequent')\n",
    "        df_imputed[categorical_columns] = categorical_imputer.fit_transform(df_imputed[categorical_columns])\n",
    "\n",
    "    return df_imputed\n",
    "\n",
    "outages = impute_missing_values(outages)"
   ]
  },
  {
   "cell_type": "code",
   "execution_count": 8,
   "metadata": {
    "scrolled": true
   },
   "outputs": [
    {
     "name": "stdout",
     "output_type": "stream",
     "text": [
      "YEAR                0\n",
      "MONTH               0\n",
      "U.S._STATE          0\n",
      "                   ..\n",
      "PCT_LAND            0\n",
      "PCT_WATER_TOT       0\n",
      "PCT_WATER_INLAND    0\n",
      "Length: 26, dtype: int64\n"
     ]
    }
   ],
   "source": [
    "# Checking to see if there are null values left\n",
    "print(outages.isnull().sum())"
   ]
  },
  {
   "cell_type": "code",
   "execution_count": 9,
   "metadata": {
    "scrolled": true
   },
   "outputs": [
    {
     "data": {
      "text/html": [
       "<div>\n",
       "<style scoped>\n",
       "    .dataframe tbody tr th:only-of-type {\n",
       "        vertical-align: middle;\n",
       "    }\n",
       "\n",
       "    .dataframe tbody tr th {\n",
       "        vertical-align: top;\n",
       "    }\n",
       "\n",
       "    .dataframe thead th {\n",
       "        text-align: right;\n",
       "    }\n",
       "</style>\n",
       "<table border=\"1\" class=\"dataframe\">\n",
       "  <thead>\n",
       "    <tr style=\"text-align: right;\">\n",
       "      <th></th>\n",
       "      <th>YEAR</th>\n",
       "      <th>MONTH</th>\n",
       "      <th>U.S._STATE</th>\n",
       "      <th>CLIMATE.REGION</th>\n",
       "      <th>...</th>\n",
       "      <th>AREAPCT_UC</th>\n",
       "      <th>PCT_LAND</th>\n",
       "      <th>PCT_WATER_TOT</th>\n",
       "      <th>PCT_WATER_INLAND</th>\n",
       "    </tr>\n",
       "  </thead>\n",
       "  <tbody>\n",
       "    <tr>\n",
       "      <th>1</th>\n",
       "      <td>2011.0</td>\n",
       "      <td>7.0</td>\n",
       "      <td>Minnesota</td>\n",
       "      <td>East North Central</td>\n",
       "      <td>...</td>\n",
       "      <td>0.6</td>\n",
       "      <td>91.59266587</td>\n",
       "      <td>8.407334131</td>\n",
       "      <td>5.478742983</td>\n",
       "    </tr>\n",
       "    <tr>\n",
       "      <th>2</th>\n",
       "      <td>2014.0</td>\n",
       "      <td>5.0</td>\n",
       "      <td>Minnesota</td>\n",
       "      <td>East North Central</td>\n",
       "      <td>...</td>\n",
       "      <td>0.6</td>\n",
       "      <td>91.59266587</td>\n",
       "      <td>8.407334131</td>\n",
       "      <td>5.478742983</td>\n",
       "    </tr>\n",
       "    <tr>\n",
       "      <th>3</th>\n",
       "      <td>2010.0</td>\n",
       "      <td>10.0</td>\n",
       "      <td>Minnesota</td>\n",
       "      <td>East North Central</td>\n",
       "      <td>...</td>\n",
       "      <td>0.6</td>\n",
       "      <td>91.59266587</td>\n",
       "      <td>8.407334131</td>\n",
       "      <td>5.478742983</td>\n",
       "    </tr>\n",
       "    <tr>\n",
       "      <th>4</th>\n",
       "      <td>2012.0</td>\n",
       "      <td>6.0</td>\n",
       "      <td>Minnesota</td>\n",
       "      <td>East North Central</td>\n",
       "      <td>...</td>\n",
       "      <td>0.6</td>\n",
       "      <td>91.59266587</td>\n",
       "      <td>8.407334131</td>\n",
       "      <td>5.478742983</td>\n",
       "    </tr>\n",
       "    <tr>\n",
       "      <th>5</th>\n",
       "      <td>2015.0</td>\n",
       "      <td>7.0</td>\n",
       "      <td>Minnesota</td>\n",
       "      <td>East North Central</td>\n",
       "      <td>...</td>\n",
       "      <td>0.6</td>\n",
       "      <td>91.59266587</td>\n",
       "      <td>8.407334131</td>\n",
       "      <td>5.478742983</td>\n",
       "    </tr>\n",
       "  </tbody>\n",
       "</table>\n",
       "<p>5 rows × 26 columns</p>\n",
       "</div>"
      ],
      "text/plain": [
       "     YEAR  MONTH U.S._STATE      CLIMATE.REGION  ... AREAPCT_UC     PCT_LAND  \\\n",
       "1  2011.0    7.0  Minnesota  East North Central  ...        0.6  91.59266587   \n",
       "2  2014.0    5.0  Minnesota  East North Central  ...        0.6  91.59266587   \n",
       "3  2010.0   10.0  Minnesota  East North Central  ...        0.6  91.59266587   \n",
       "4  2012.0    6.0  Minnesota  East North Central  ...        0.6  91.59266587   \n",
       "5  2015.0    7.0  Minnesota  East North Central  ...        0.6  91.59266587   \n",
       "\n",
       "  PCT_WATER_TOT PCT_WATER_INLAND  \n",
       "1   8.407334131      5.478742983  \n",
       "2   8.407334131      5.478742983  \n",
       "3   8.407334131      5.478742983  \n",
       "4   8.407334131      5.478742983  \n",
       "5   8.407334131      5.478742983  \n",
       "\n",
       "[5 rows x 26 columns]"
      ]
     },
     "execution_count": 9,
     "metadata": {},
     "output_type": "execute_result"
    }
   ],
   "source": [
    "# HEAD of DF\n",
    "\n",
    "outages.head()\n",
    "# print(outages.head().to_markdown(index=False))"
   ]
  },
  {
   "cell_type": "markdown",
   "metadata": {},
   "source": [
    "### Univariate Analysis"
   ]
  },
  {
   "cell_type": "markdown",
   "metadata": {},
   "source": [
    "To gain a better understanding of key variables in our dataset, we performed a univariate analysis through visualizations. Below are two plots we generated, along with the description of trends we found in the data. "
   ]
  },
  {
   "cell_type": "code",
   "execution_count": 10,
   "metadata": {},
   "outputs": [
    {
     "data": {
      "text/html": [
       "<iframe\n",
       "    scrolling=\"no\"\n",
       "    width=\"100%\"\n",
       "    height=\"545px\"\n",
       "    src=\"iframe_figures/figure_10.html\"\n",
       "    frameborder=\"0\"\n",
       "    allowfullscreen\n",
       "></iframe>\n"
      ]
     },
     "metadata": {},
     "output_type": "display_data"
    }
   ],
   "source": [
    "# Frequency Distribution of Climate Region\n",
    "univariate1 = px.bar(outages['CAUSE.CATEGORY'].value_counts(), \n",
    "              title='Frequency Distribution of Causes of Outages',\n",
    "              labels={'index': 'Cause Category', 'value': 'Frequency'})\n",
    "univariate1.show()\n",
    "# univariate1.write_html(\"univariate1.html\")"
   ]
  },
  {
   "cell_type": "markdown",
   "metadata": {},
   "source": [
    "#### Frequency Distribution of Cause of Outages\n",
    "The bar plot above describes the frequency of different causes of power outages.\n",
    "\n",
    "From the plot we can see that:\n",
    "- Severe weather is the most common cause of power outages, occurring significantly more frequently than any other cause.\n",
    "- Intentional attacks and system operability disruptions also contribute to outages but at a much lower frequency.\n",
    "- Fuel supply emergencies, public appeals, and islanding are among the least frequent causes of outages.\n",
    "\n",
    "Through this analysis, we can see that severe weather is a leading cause of power outages, indicating that weather-related factors play a crucial role in outage occurrences."
   ]
  },
  {
   "cell_type": "code",
   "execution_count": 11,
   "metadata": {},
   "outputs": [
    {
     "data": {
      "text/html": [
       "<iframe\n",
       "    scrolling=\"no\"\n",
       "    width=\"100%\"\n",
       "    height=\"545px\"\n",
       "    src=\"iframe_figures/figure_11.html\"\n",
       "    frameborder=\"0\"\n",
       "    allowfullscreen\n",
       "></iframe>\n"
      ]
     },
     "metadata": {},
     "output_type": "display_data"
    }
   ],
   "source": [
    "# Boxplot of Outage Duration\n",
    "univariate2 = px.box(outages, y='OUTAGE.DURATION', title='Box Plot of Outage Duration',\n",
    "              labels={'outage_duration': 'Outage Duration (hours)'})\n",
    "univariate2.show()\n",
    "# univariate2.write_html(\"univariate2.html\")"
   ]
  },
  {
   "cell_type": "markdown",
   "metadata": {},
   "source": [
    "#### Box Plot of Outage Duration\n",
    "\n",
    "The box plot visualizes the distribution of power outage durations across all recorded incidients. \n",
    "\n",
    "From the plot we can see that:\n",
    "- A majority of the power outages are relatively short lived, as indicated by the concentration of data in the lower end.\n",
    "- There are a lot of outlier within the dataset, some outages lasting tens of thousands of hours. These outages may be due to severe natural disasters and/or infrastructure failures.\n",
    "- The dataset is highly skewed, seen by the median outage duration.\n",
    "\n",
    "This analysis shows that the outage durations in our datset vary signficantly and include extreme cases."
   ]
  },
  {
   "cell_type": "markdown",
   "metadata": {},
   "source": [
    "### Bivariate Analysis"
   ]
  },
  {
   "cell_type": "markdown",
   "metadata": {},
   "source": [
    "To determine the relationships between key variables, we performed a bivariate analysis through visualizations. Below are the plots we generated, along with the description of trends we found in the data."
   ]
  },
  {
   "cell_type": "code",
   "execution_count": 12,
   "metadata": {},
   "outputs": [
    {
     "data": {
      "text/html": [
       "<iframe\n",
       "    scrolling=\"no\"\n",
       "    width=\"100%\"\n",
       "    height=\"545px\"\n",
       "    src=\"iframe_figures/figure_12.html\"\n",
       "    frameborder=\"0\"\n",
       "    allowfullscreen\n",
       "></iframe>\n"
      ]
     },
     "metadata": {},
     "output_type": "display_data"
    }
   ],
   "source": [
    "# Bivariate Analysis: Outage Duration vs. Climate Region\n",
    "bivariate1 = px.box(outages, x='CLIMATE.REGION', y='OUTAGE.DURATION', \n",
    "              title='Outage Duration by Climate Region Boxplot',\n",
    "              labels={'climate_region': 'Climate Region', 'outage_duration': 'Outage Duration (hours)'})\n",
    "bivariate1.show()\n",
    "# bivariate1.write_html(\"bivariate1.html\")"
   ]
  },
  {
   "cell_type": "markdown",
   "metadata": {},
   "source": [
    "#### Outage Duration by Climate Region (Box Plot)\n",
    "\n",
    "The box plot shows how outage duration varies across different climate regions. \n",
    "\n",
    "From the plot we can see that:\n",
    "- The East North Central region has the longest median outage duration, along with mutliple outliers.\n",
    "- The South and West regions also show variability in outage durations.\n",
    "- While most outage durations last relatively short, some climate regions have more long-duration outages, possibly suggesting that climate factors could play a role in the duration of power outages.\n",
    "\n",
    "This visualization shows how climate-based factors could play a role in predicting power outage durations."
   ]
  },
  {
   "cell_type": "code",
   "execution_count": 13,
   "metadata": {},
   "outputs": [
    {
     "data": {
      "text/html": [
       "<iframe\n",
       "    scrolling=\"no\"\n",
       "    width=\"100%\"\n",
       "    height=\"545px\"\n",
       "    src=\"iframe_figures/figure_13.html\"\n",
       "    frameborder=\"0\"\n",
       "    allowfullscreen\n",
       "></iframe>\n"
      ]
     },
     "metadata": {},
     "output_type": "display_data"
    }
   ],
   "source": [
    "# Bivariate Analysis: Outage Duration vs. Climate Region\n",
    "bivariate2 = px.scatter(outages, x='CLIMATE.REGION', y='OUTAGE.DURATION', \n",
    "                title='Outage Duration by Climate Region Scatterplot',\n",
    "                labels={'climate_region': 'Climate Region', 'outage_duration': 'Outage Duration (hours)'})\n",
    "bivariate2.show()\n",
    "# bivariate2.write_html(\"bivariate2.html\")"
   ]
  },
  {
   "cell_type": "markdown",
   "metadata": {},
   "source": [
    "#### Outage Duration by Climate Region (Scatter Plot)\n",
    "\n",
    "To gain better visability on the distribution, we also used a scatter plot to examine overlapping points.\n",
    "\n",
    "From the plot we can see that:\n",
    "- A majority of outages are clustered around the lower durations, with few outliers.\n",
    "- Some regions have consistently longer outages.\n",
    "\n",
    "This visualization further supports that climate region could be an important factor in our model. "
   ]
  },
  {
   "cell_type": "code",
   "execution_count": 14,
   "metadata": {},
   "outputs": [
    {
     "data": {
      "text/html": [
       "<iframe\n",
       "    scrolling=\"no\"\n",
       "    width=\"100%\"\n",
       "    height=\"545px\"\n",
       "    src=\"iframe_figures/figure_14.html\"\n",
       "    frameborder=\"0\"\n",
       "    allowfullscreen\n",
       "></iframe>\n"
      ]
     },
     "metadata": {},
     "output_type": "display_data"
    }
   ],
   "source": [
    "# Bivariate Analysis: Outage Duration vs. Cause Category\n",
    "bivariate3 = px.box(outages, x='CAUSE.CATEGORY', y='OUTAGE.DURATION', \n",
    "              title='Outage Duration by Cause Category Boxplot',\n",
    "              labels={'cause_category': 'Cause Category', 'outage_duration': 'Outage Duration (hours)'})\n",
    "bivariate3.show()\n",
    "# bivariate3.write_html(\"bivariate3.html\")"
   ]
  },
  {
   "cell_type": "markdown",
   "metadata": {},
   "source": [
    "#### Outage Duration by Cause Category (Box Plot)\n",
    "\n",
    "The box plot shows how different causes impact power outage durations. \n",
    "\n",
    "From the plot we can see that:\n",
    "- Severe weather is the most common cause of power outages (has broad range of durations).\n",
    "- Fuel supply emergencies and public appeals tend to result in longer outages.\n",
    "- Intentional attacks and equipment failures usually result in shorter outages. \n",
    "\n",
    "This visualization suggests that cause category is a significant factor of outage duration, as we observe that different causes lead to different restoration times. "
   ]
  },
  {
   "cell_type": "code",
   "execution_count": 15,
   "metadata": {},
   "outputs": [
    {
     "data": {
      "text/html": [
       "<iframe\n",
       "    scrolling=\"no\"\n",
       "    width=\"100%\"\n",
       "    height=\"545px\"\n",
       "    src=\"iframe_figures/figure_15.html\"\n",
       "    frameborder=\"0\"\n",
       "    allowfullscreen\n",
       "></iframe>\n"
      ]
     },
     "metadata": {},
     "output_type": "display_data"
    }
   ],
   "source": [
    "# Bivariate Analysis: Outage Duration vs. Cause Category\n",
    "bivariate4 = px.scatter(outages, x='CAUSE.CATEGORY', y='OUTAGE.DURATION', \n",
    "                title='Outage Duration by Cause Category Scatterplot',\n",
    "                labels={'cause_category': 'Cause Category', 'outage_duration': 'Outage Duration (hours)'})\n",
    "bivariate4.show()\n",
    "# bivariate4.write_html(\"bivariate4.html\")"
   ]
  },
  {
   "cell_type": "markdown",
   "metadata": {},
   "source": [
    "#### Outage Duration by Cause Category (Scatter Plot)\n",
    "\n",
    "To gain better visability on the distribution, we also used a scatter plot to examine overlapping points.\n",
    "\n",
    "From the plot we can see that:\n",
    "- A majority of the outages result in shorter durations.\n",
    "- Most of the points near 0 shows that most outages are resolved fairly quickly.\n",
    "- There is significant variation between different cause categories.\n",
    "\n",
    "This visualization further supports that certain causes tend to result in more prolonged outages. "
   ]
  },
  {
   "cell_type": "code",
   "execution_count": 16,
   "metadata": {},
   "outputs": [
    {
     "data": {
      "text/html": [
       "<div>\n",
       "<style scoped>\n",
       "    .dataframe tbody tr th:only-of-type {\n",
       "        vertical-align: middle;\n",
       "    }\n",
       "\n",
       "    .dataframe tbody tr th {\n",
       "        vertical-align: top;\n",
       "    }\n",
       "\n",
       "    .dataframe thead th {\n",
       "        text-align: right;\n",
       "    }\n",
       "</style>\n",
       "<table border=\"1\" class=\"dataframe\">\n",
       "  <thead>\n",
       "    <tr style=\"text-align: right;\">\n",
       "      <th>CAUSE.CATEGORY</th>\n",
       "      <th>equipment failure</th>\n",
       "      <th>fuel supply emergency</th>\n",
       "      <th>intentional attack</th>\n",
       "      <th>islanding</th>\n",
       "      <th>public appeal</th>\n",
       "      <th>severe weather</th>\n",
       "      <th>system operability disruption</th>\n",
       "    </tr>\n",
       "    <tr>\n",
       "      <th>CLIMATE.REGION</th>\n",
       "      <th></th>\n",
       "      <th></th>\n",
       "      <th></th>\n",
       "      <th></th>\n",
       "      <th></th>\n",
       "      <th></th>\n",
       "      <th></th>\n",
       "    </tr>\n",
       "  </thead>\n",
       "  <tbody>\n",
       "    <tr>\n",
       "      <th>Central</th>\n",
       "      <td>293.14</td>\n",
       "      <td>10035.25</td>\n",
       "      <td>315.53</td>\n",
       "      <td>125.33</td>\n",
       "      <td>1410.00</td>\n",
       "      <td>3238.30</td>\n",
       "      <td>2469.73</td>\n",
       "    </tr>\n",
       "    <tr>\n",
       "      <th>East North Central</th>\n",
       "      <td>26435.33</td>\n",
       "      <td>27969.00</td>\n",
       "      <td>2376.05</td>\n",
       "      <td>1.00</td>\n",
       "      <td>733.00</td>\n",
       "      <td>4434.82</td>\n",
       "      <td>2610.00</td>\n",
       "    </tr>\n",
       "    <tr>\n",
       "      <th>Northeast</th>\n",
       "      <td>216.67</td>\n",
       "      <td>14629.57</td>\n",
       "      <td>191.84</td>\n",
       "      <td>881.00</td>\n",
       "      <td>2655.00</td>\n",
       "      <td>4342.68</td>\n",
       "      <td>705.06</td>\n",
       "    </tr>\n",
       "    <tr>\n",
       "      <th>...</th>\n",
       "      <td>...</td>\n",
       "      <td>...</td>\n",
       "      <td>...</td>\n",
       "      <td>...</td>\n",
       "      <td>...</td>\n",
       "      <td>...</td>\n",
       "      <td>...</td>\n",
       "    </tr>\n",
       "    <tr>\n",
       "      <th>Southwest</th>\n",
       "      <td>113.80</td>\n",
       "      <td>2018.00</td>\n",
       "      <td>255.84</td>\n",
       "      <td>2.00</td>\n",
       "      <td>2275.00</td>\n",
       "      <td>11572.90</td>\n",
       "      <td>329.22</td>\n",
       "    </tr>\n",
       "    <tr>\n",
       "      <th>West</th>\n",
       "      <td>524.81</td>\n",
       "      <td>5250.94</td>\n",
       "      <td>857.68</td>\n",
       "      <td>214.86</td>\n",
       "      <td>2028.11</td>\n",
       "      <td>2908.30</td>\n",
       "      <td>356.41</td>\n",
       "    </tr>\n",
       "    <tr>\n",
       "      <th>West North Central</th>\n",
       "      <td>61.00</td>\n",
       "      <td>3960.00</td>\n",
       "      <td>23.50</td>\n",
       "      <td>68.20</td>\n",
       "      <td>439.50</td>\n",
       "      <td>2442.50</td>\n",
       "      <td>0.00</td>\n",
       "    </tr>\n",
       "  </tbody>\n",
       "</table>\n",
       "<p>9 rows × 7 columns</p>\n",
       "</div>"
      ],
      "text/plain": [
       "CAUSE.CATEGORY      equipment failure  fuel supply emergency  \\\n",
       "CLIMATE.REGION                                                 \n",
       "Central                        293.14               10035.25   \n",
       "East North Central           26435.33               27969.00   \n",
       "Northeast                      216.67               14629.57   \n",
       "...                               ...                    ...   \n",
       "Southwest                      113.80                2018.00   \n",
       "West                           524.81                5250.94   \n",
       "West North Central              61.00                3960.00   \n",
       "\n",
       "CAUSE.CATEGORY      intentional attack  islanding  public appeal  \\\n",
       "CLIMATE.REGION                                                     \n",
       "Central                         315.53     125.33        1410.00   \n",
       "East North Central             2376.05       1.00         733.00   \n",
       "Northeast                       191.84     881.00        2655.00   \n",
       "...                                ...        ...            ...   \n",
       "Southwest                       255.84       2.00        2275.00   \n",
       "West                            857.68     214.86        2028.11   \n",
       "West North Central               23.50      68.20         439.50   \n",
       "\n",
       "CAUSE.CATEGORY      severe weather  system operability disruption  \n",
       "CLIMATE.REGION                                                     \n",
       "Central                    3238.30                        2469.73  \n",
       "East North Central         4434.82                        2610.00  \n",
       "Northeast                  4342.68                         705.06  \n",
       "...                            ...                            ...  \n",
       "Southwest                 11572.90                         329.22  \n",
       "West                       2908.30                         356.41  \n",
       "West North Central         2442.50                           0.00  \n",
       "\n",
       "[9 rows x 7 columns]"
      ]
     },
     "execution_count": 16,
     "metadata": {},
     "output_type": "execute_result"
    }
   ],
   "source": [
    "# Pivot Tables by Mean\n",
    "pivot_table = pd.pivot_table(\n",
    "    outages,\n",
    "    values='OUTAGE.DURATION',  \n",
    "    index='CLIMATE.REGION',   \n",
    "    columns='CAUSE.CATEGORY', \n",
    "    aggfunc='mean',            \n",
    "    fill_value=0              \n",
    ")\n",
    "pivot_table\n",
    "# print(pivot_table.to_markdown(index=False))"
   ]
  },
  {
   "cell_type": "markdown",
   "metadata": {},
   "source": [
    "#### Pivot Table: Mean Outage Duration by Climate Region and Cause Category\n",
    "\n",
    "This pivot table shows the average outage duration grouped by climate region and cause category. The table helps to identify trends adn variations in outage durations based noo geographic location and the underlying cause of the outage. \n",
    "\n",
    "Key observations:\n",
    "- East North Central region has the highest outage duration for equipment failures (26,435 hours).\n",
    "- Fuel Supply Emergencies result in long outages across multiple regions.\n",
    "- Severe Weather affects all regions, but its impacts on each region vary.\n",
    "\n",
    "This table allows us to determine the relationship between cause and climate, which is helpful in improving our model's performance. "
   ]
  },
  {
   "cell_type": "markdown",
   "metadata": {},
   "source": [
    "## Assessment of Missingness"
   ]
  },
  {
   "cell_type": "code",
   "execution_count": 17,
   "metadata": {},
   "outputs": [],
   "source": [
    "# Get version for unimputed outages DataFrame\n",
    "unimputed_outages = pd.read_csv('outages.csv')\n",
    "unimputed_outages = unimputed_outages.iloc[1:] # Gets rid of row that is initially units for each column"
   ]
  },
  {
   "cell_type": "code",
   "execution_count": 18,
   "metadata": {
    "ExecuteTime": {
     "end_time": "2019-10-31T23:36:28.662099Z",
     "start_time": "2019-10-31T23:36:28.660016Z"
    }
   },
   "outputs": [
    {
     "data": {
      "text/html": [
       "<iframe\n",
       "    scrolling=\"no\"\n",
       "    width=\"100%\"\n",
       "    height=\"545px\"\n",
       "    src=\"iframe_figures/figure_18.html\"\n",
       "    frameborder=\"0\"\n",
       "    allowfullscreen\n",
       "></iframe>\n"
      ]
     },
     "metadata": {},
     "output_type": "display_data"
    },
    {
     "name": "stdout",
     "output_type": "stream",
     "text": [
      "Observed Absolute Difference in Means: 0.08634898930475615, P-Value: 0.0\n"
     ]
    }
   ],
   "source": [
    "# Permutation Test for Missingness of OUTAGE.DURATION does depend on\n",
    "def permutation_test(data, col_missing, col_test, num_permutations=1000):\n",
    "    frequencies = data[col_test].value_counts(normalize=True).to_dict()\n",
    "\n",
    "    data[f'{col_test}_ENCODED'] = data[col_test].map(frequencies)\n",
    "\n",
    "    observed_diff = abs(data[data[col_missing].isnull()][f'{col_test}_ENCODED'].mean() -\n",
    "                    data[~data[col_missing].isnull()][f'{col_test}_ENCODED'].mean())\n",
    "\n",
    "    perm_diffs = []\n",
    "    for n in range(num_permutations):\n",
    "        shuffled = data[f'{col_test}_ENCODED'].sample(frac=1, replace=False).reset_index(drop=True)\n",
    "        perm_diff = abs(data[data[col_missing].isnull()].index.to_series().map(shuffled).mean() -\n",
    "                        data[~data[col_missing].isnull()].index.to_series().map(shuffled).mean())\n",
    "        perm_diffs.append(perm_diff)\n",
    "\n",
    "    p_value = np.mean(np.array(perm_diffs) >= observed_diff)\n",
    "\n",
    "    return observed_diff, perm_diffs, p_value\n",
    "\n",
    "# Performing Permutation Missingness Test on CAUSE.CATEGORY\n",
    "observed_diff, perm_diffs, p_value = permutation_test(unimputed_outages, 'OUTAGE.DURATION', 'CAUSE.CATEGORY')\n",
    "\n",
    "missingness1 = px.histogram(x=perm_diffs, nbins=30, title=f'Permutation Test for Missingness in OUTAGE.DURATION Depending on CAUSE.CATEGORY', labels={'value': 'Absolute Difference in Means'}, opacity=0.7)\n",
    "missingness1.add_vline(x=observed_diff, line_dash='dash', line_color='red', annotation_text='Observed Absolute Difference in Means')\n",
    "missingness1.show()\n",
    "# missingness1.write_html(\"missingness1.html\")\n",
    "\n",
    "print(f\"Observed Absolute Difference in Means: {observed_diff}, P-Value: {p_value}\")"
   ]
  },
  {
   "cell_type": "markdown",
   "metadata": {},
   "source": [
    "#### Assessment of Missingness: Permutation Test for Missingness in OUTAGE.DURATION Depending on CAUSE.CATEGORY\n",
    "\n",
    "##### Plot Interpretation\n",
    "The histogram above shows the empirical distribution of the absolute difference in means from 1,000 permutations when testing whether the missingness in our target variable (OUTAGE.DURATION) depends on CAUSE.CATEGORY. The x-axis shows the absolute difference in means, while the y-axis represents the frequency of permuted differences.  \n",
    "\n",
    "The observed absolute difference in means has a value of 0.0863, while the empirical p-value from this test has a value of 0.0. This means that none of the permuted differences were at least as extreme as the observed difference. Since the p-value is 0.0, we reject the null hypothesis. This suggests that the missingness in OUTAGE.DURATION is not completely at random and is dependent on CAUSE.CATEGORY. This means that the likelihood of missing values in outage duration is influenced by the specific causes of the outage, exhibiting Missing At Random behavior. Certain causes may be more prone to missing outage durations in the dataset than other causes. "
   ]
  },
  {
   "cell_type": "code",
   "execution_count": 19,
   "metadata": {},
   "outputs": [
    {
     "data": {
      "text/html": [
       "<iframe\n",
       "    scrolling=\"no\"\n",
       "    width=\"100%\"\n",
       "    height=\"545px\"\n",
       "    src=\"iframe_figures/figure_19.html\"\n",
       "    frameborder=\"0\"\n",
       "    allowfullscreen\n",
       "></iframe>\n"
      ]
     },
     "metadata": {},
     "output_type": "display_data"
    },
    {
     "name": "stdout",
     "output_type": "stream",
     "text": [
      "Observed Absolute Difference in Means: 0.08763693270735526, P-Value: 0.098\n"
     ]
    }
   ],
   "source": [
    "# Permutation Test for Missingness of OUTAGE.DURATION does NOT depend on\n",
    "observed_diff, perm_diffs, p_value = permutation_test(unimputed_outages, 'OUTAGE.DURATION', 'HURRICANE.NAMES')\n",
    "\n",
    "missingness2 = px.histogram(perm_diffs, nbins=30, title=f'Permutation Test for Missingness in OUTAGE.DURATION Depending on HURRICANE.NAMES', labels={'value': 'Absolute Difference in Means'}, opacity=0.7)\n",
    "missingness2.add_vline(x=observed_diff, line_dash='dash', line_color='red', annotation_text='Observed Absolute Difference in Means')\n",
    "missingness2.show()\n",
    "# missingness2.write_html(\"missingness2.html\")\n",
    "\n",
    "print(f\"Observed Absolute Difference in Means: {observed_diff}, P-Value: {p_value}\")"
   ]
  },
  {
   "cell_type": "markdown",
   "metadata": {},
   "source": [
    "#### Assessment of Missingness: Permutation Test for Missingness in OUTAGE.DURATION Depending on HURRICANE.NAMES\n",
    "\n",
    "##### Plot Interpretation\n",
    "The histogram above shows the empirical distribution of the absolute difference in means from 1,000 permutations when testing whether the missingness in our target variable (OUTAGE.DURATION) depends on Hurricane names. The x-axis shows the absolute difference in means, while the y-axis represents the frequency of permuted differences. \n",
    "\n",
    "The observed absolute difference in means has a value of 0.0876, while the empirical p-value has a value of 0.098. This means that about 9.8%  of the permuted differences were at least as extreme as the observed differences. Since the p-value is greater than 0.05, we fail to reject the null hypothesis. This suggests that there is not enough evidence to conclude that missingness in OUTAGE.DURATION is dependent on whether the outage was caused by HURRICANE.NAMES. While there may be the possibility of some relationship between the two features, the results from this permutation test suggest that there is no strong statistical support for Missing At Random behavior based on this variable. \n"
   ]
  },
  {
   "cell_type": "markdown",
   "metadata": {},
   "source": [
    "## Hypothesis Testing"
   ]
  },
  {
   "cell_type": "code",
   "execution_count": 20,
   "metadata": {},
   "outputs": [],
   "source": [
    "# Permutation Test\n",
    "def permutation_absmeans(df, feature, response, n_permutations=1000):\n",
    "    means = df.groupby(feature)[response].mean()\n",
    "    observed_diff = np.abs(means.diff().dropna()).sum()\n",
    "\n",
    "    abs_diffs = []\n",
    "    for n in range(n_permutations):\n",
    "        shuffled = df.assign(Shuffled_outage_duration=np.random.permutation(df[response]))\n",
    "        shuffled_means = shuffled.groupby(feature)['Shuffled_outage_duration'].mean()\n",
    "        shuffled_diff = np.abs(shuffled_means.diff().dropna()).sum()\n",
    "        abs_diffs.append(shuffled_diff)\n",
    "\n",
    "    p_value = (np.array(abs_diffs) >= observed_diff).mean()\n",
    "\n",
    "    return observed_diff, abs_diffs, p_value\n",
    "\n",
    "observed_diff, abs_diffs, p_value = permutation_absmeans(outages, 'CAUSE.CATEGORY', 'OUTAGE.DURATION')"
   ]
  },
  {
   "cell_type": "code",
   "execution_count": 21,
   "metadata": {},
   "outputs": [
    {
     "data": {
      "text/html": [
       "<iframe\n",
       "    scrolling=\"no\"\n",
       "    width=\"100%\"\n",
       "    height=\"545px\"\n",
       "    src=\"iframe_figures/figure_21.html\"\n",
       "    frameborder=\"0\"\n",
       "    allowfullscreen\n",
       "></iframe>\n"
      ]
     },
     "metadata": {},
     "output_type": "display_data"
    },
    {
     "name": "stdout",
     "output_type": "stream",
     "text": [
      "Observed Absolute Difference in Means: 27022.72477030569\n",
      "P-value: 0.0\n"
     ]
    }
   ],
   "source": [
    "# Empirical distribution of absolute differences for CAUSE.CATEGORY & OUTAGE.DURATION\n",
    "hypothesis_test_1 = px.histogram(abs_diffs, nbins=30, labels={'value': 'Absolute Difference in Means'}, title='Empirical Distribution of Absolute Difference in Means for CAUSE.CATEGORY & OUTAGE.DURATION')\n",
    "hypothesis_test_1.add_vline(x=observed_diff, line_dash=\"dash\", line_color=\"red\", annotation_text=\"Observed Difference\", annotation_position=\"top right\")\n",
    "hypothesis_test_1.update_layout(xaxis_title=\"Absolute Difference in Means\", yaxis_title=\"Frequency\", showlegend=False)\n",
    "hypothesis_test_1.show()\n",
    "# hypothesis_test_1.write_html(\"hypothesis_test_1.html\")\n",
    "\n",
    "print(f\"Observed Absolute Difference in Means: {observed_diff}\")\n",
    "print(f\"P-value: {p_value}\")"
   ]
  },
  {
   "cell_type": "markdown",
   "metadata": {},
   "source": [
    "#### Hypothesis Test 1: Permutation Test for Cause Category and Outage Duration\n",
    "\n",
    "##### Plot Interpretation:\n",
    "The histogram that plots the empirical distribution of the absolute difference in means for CAUSE.CATEGORY and OUTAGE.DURATION is heavily right skewed. This shows that most of the permuted differences cluster mainly on the right, meaning that the test results in differences that are in majority small, with just a few differences that are larger occurring in the right tail. The observed difference is also in the far right of the histogram meaning that the observed difference is larger than most permuted differences that were computed. This diagram further shows that the observed difference is unlikely to be due to chance and that the CAUSE.CATEGORY truly does affect the OUTAGE.DURATION."
   ]
  },
  {
   "cell_type": "code",
   "execution_count": 22,
   "metadata": {
    "ExecuteTime": {
     "end_time": "2019-10-31T23:36:28.666489Z",
     "start_time": "2019-10-31T23:36:28.664381Z"
    },
    "scrolled": true
   },
   "outputs": [
    {
     "name": "stdout",
     "output_type": "stream",
     "text": [
      "Kruskal-Wallis Test Statistic: 700.6054239816652, P-Value: 4.526908484457232e-148\n"
     ]
    },
    {
     "data": {
      "text/html": [
       "<iframe\n",
       "    scrolling=\"no\"\n",
       "    width=\"100%\"\n",
       "    height=\"545px\"\n",
       "    src=\"iframe_figures/figure_22.html\"\n",
       "    frameborder=\"0\"\n",
       "    allowfullscreen\n",
       "></iframe>\n"
      ]
     },
     "metadata": {},
     "output_type": "display_data"
    }
   ],
   "source": [
    "groups = [group['OUTAGE.DURATION'].values for name, group in outages.groupby('CAUSE.CATEGORY')]\n",
    "\n",
    "statistic, p_value = kruskal(*groups)\n",
    "\n",
    "print(f\"Kruskal-Wallis Test Statistic: {statistic}, P-Value: {p_value}\")\n",
    "\n",
    "# Violin plot\n",
    "hypothesis_test_2 = px.violin(outages, x=\"CAUSE.CATEGORY\", y=\"OUTAGE.DURATION\", \n",
    "                title=\"Distribution of Outage Durations by Cause Category\",\n",
    "                box=True, points=\"all\", hover_data=outages.columns)\n",
    "\n",
    "hypothesis_test_2.update_layout(xaxis_title=\"Cause Category\", yaxis_title=\"Outage Duration (mins)\")\n",
    "hypothesis_test_2.show()\n",
    "# hypothesis_test_2.write_html(\"hypothesis_test_2.html\")"
   ]
  },
  {
   "cell_type": "markdown",
   "metadata": {},
   "source": [
    "#### Hypothesis Test 2: Kruskal-Wallis Test for Outage Duration Across Cause Categories \n",
    "\n",
    "##### Plot Interpretation:\n",
    "The plot above shows the distribution of outage durations by cause category, where a Kruskal-Wallis test was used to assess whether the duration of outages significantly varies across different causese. With the test statistic value of 700.61 and a p-value of 4.53e-148, which are extremely small, this suggests strong evidence against the null hypothesis. This indicates that different causes likely result in different outage durations. \n",
    "\n",
    "As seen on the plot:\n",
    "- Severe weather is the most frequent, meaning it is the most common cause  of outages and shows a wide spread of durations.\n",
    "- Fuel supply emergencies and public appeals have high variability, and some outages lasting longer.\n",
    "- Other categories such as intentional attacks and system operability disruptions, tend to have shorter outages.\n"
   ]
  },
  {
   "cell_type": "markdown",
   "metadata": {},
   "source": [
    "## Framing a Prediction Problem"
   ]
  },
  {
   "cell_type": "markdown",
   "metadata": {
    "ExecuteTime": {
     "end_time": "2019-10-31T23:36:28.657068Z",
     "start_time": "2019-10-31T23:36:28.654650Z"
    }
   },
   "source": [
    "### Prediction Type: Regression\n",
    "The goal of this prediction task is to predict the duration of a power outage (OUTAGE.DURATION) based on several factors that are available at the start of the outage, including cause and climate. Since our target variable is a continuous numerical value, we define this as a regression problem rather than a classification problem. \n",
    "\n",
    "### Response Variable: OUTAGE.DURATION\n",
    "We chose OUTAGE.DURATION as our response variable understanding the length of outages can help the following:\n",
    "- Businesses: Plan for potential financial losses\n",
    "- Utility Companies: Improve infrastructure and optimize restoration efforts\n",
    "- Emergency Responders: Better prepare for different situations and allocation of resources\n",
    "- Policy-makers: Use data-driven insights to improve power grid reliability\n",
    "Overall, we can help predict future outages and enable proactive measures to reduce economic loss and better prepare for such emergencies. \n",
    "\n",
    "### Evaluation Metrics\n",
    "To assess the performance of our model, we used the following metrics:\n",
    "- Mean Squared Error (MSE): MSE was chosen as our primary form of evaluation metric because it helps to measure how far predicted outage durations deviate from the actual durations. It also is suitable for larger errors, allowing for outliers in the outage duration to have more weight.  \n",
    "- R2 (Coefficient of Determination): R2 was chosen as our second metric because it measures how well our model performs with variability in OUTAGE.DURATION. A higher value of R2 indicates a better fit, allowing us to understand how well our model is performing with outage duration.  \n",
    "MSE is prioritized, as there are significant outliers in OUTAGE.DURATION.\n",
    "\n",
    "### Justification of Features\n",
    "The model only includes features that are known at the start of an outage. The selected features include the following:\n",
    "- CAUSE.CATEGORY (Categorical): Used to identify the general cause of the outage, such as severe weather, equipment failure, etc. \n",
    "- CLIMATE.CATEGORY (Categorical): Describes the climate type in which the outage occurred, severe weathers may influence the duration\n",
    "- MONTH (Numerical): Helps us to identify the seasonal trends that may affect the outages.\n",
    "\n",
    "Some additional features that may be used, but are not known prior to the outages include the following: \n",
    "- DEMAND.LOSS.MW (Numerical): Measures the severity of the outage based on power demand loss. \n",
    "- CUSTOMERS.AFFECTED (Numerical): Larger outages may take longer to restore, more individuals being affected. \n",
    "\n",
    "### Challenges\n",
    "Some challenges that we faced while developing a outage duration prediction model include:  \n",
    "- Handling Categorical Data\n",
    "    - Most of the dataset contains categorical variables, which required us to one-hot encode.\n",
    "    - We applied one-hot encoding for categorical features used such as CAUSE.CATEGORY and CLIMATE.REGION to convert them into a numerical format.\n",
    "- Missing Data\n",
    "    Variables including OUTAGE.DURATION had missing values in the dataset. To mitigate this, we had to perform a missingness analysis and group-wise median imputation to fill in the missing values based on the median outage duration for each cause category.\n",
    "- Skewed Data\n",
    "    - Our target variable also has extreme outliers, meaning that we may need to apply log transformation to deal with the outliers."
   ]
  },
  {
   "cell_type": "markdown",
   "metadata": {},
   "source": [
    "## Baseline Model"
   ]
  },
  {
   "cell_type": "code",
   "execution_count": 23,
   "metadata": {
    "ExecuteTime": {
     "end_time": "2019-10-31T23:36:28.662099Z",
     "start_time": "2019-10-31T23:36:28.660016Z"
    }
   },
   "outputs": [
    {
     "name": "stdout",
     "output_type": "stream",
     "text": [
      "Mean Squared Error (MSE): 26061252.55965856\n",
      "R² Score: 0.007262599857186136\n"
     ]
    }
   ],
   "source": [
    "# Linear Regression\n",
    "X = outages[['CAUSE.CATEGORY', 'CLIMATE.REGION']] \n",
    "y = outages['OUTAGE.DURATION'] \n",
    "\n",
    "X_train, X_test, y_train, y_test = train_test_split(X, y, test_size=0.2, random_state=42)\n",
    "\n",
    "categorical_features = ['CAUSE.CATEGORY', 'CLIMATE.REGION']\n",
    "\n",
    "preprocessor = ColumnTransformer(\n",
    "    transformers=[('cat', OneHotEncoder(handle_unknown='ignore'), categorical_features)])\n",
    "\n",
    "pipeline = Pipeline([\n",
    "    ('preprocessor', preprocessor), \n",
    "    ('regressor', LinearRegression()) \n",
    "])\n",
    "\n",
    "pipeline.fit(X_train, y_train)\n",
    "\n",
    "y_pred = pipeline.predict(X_test)\n",
    "mse = mean_squared_error(y_test, y_pred)\n",
    "r2 = r2_score(y_test, y_pred)\n",
    "\n",
    "print(f\"Mean Squared Error (MSE): {mse}\")\n",
    "print(f\"R² Score: {r2}\")"
   ]
  },
  {
   "cell_type": "markdown",
   "metadata": {},
   "source": [
    "#### Chosen Model: Linear Regression with a Pipeline\n",
    "For our baseline model, we chose to implement a Linear Regression model using an sklearn Pipeline, to ensure that all preprocessing steps such as encoding categorical variables were integrated within our training steps. \n",
    "\n",
    "##### Features Used\n",
    "\n",
    "Our model uses the following two categorical features to predict the duration of outages:\n",
    "- CAUSE.CATEGORY (Nomial, Categorical)\n",
    "    - Represents the general cause of the power outage, such as severe weather, equipment failure, intentional attack, etc. \n",
    "    - Encoding Method: One-hot encoding, since there is no order among these categories. \n",
    "- CLIMATE.REGION (Nominal, Categorical)\n",
    "    - Represents the climate region where the outage occurred, such as the Northeast, West, South, etc. \t\n",
    "    - Encoding Method: One-hot encoding, since there is no order among these categories. \n",
    "\n",
    "\n",
    "#### Encoding and Model Training\n",
    "- One-hot encoding was applied to the categorical variables, as mentioned above using a ColumnTransformer. \n",
    "- We split the dataset into training (80%) and testing (20%) sets to evaluate model generalization.\n",
    "- The final pipeline consists of\n",
    "    - Preprocessing step: One-hot encoding of categorical features\n",
    "    - Regressoin: Linear Regression to predict OUTAGE.DURATION \n",
    "\n",
    "#### Baseline Model Performance and Assessment\n",
    "After training and evaluating our baseline model on the test set, we obtained the following results:\n",
    "- Mean Squared Error (MSE): 26,061,252.55965856\n",
    "- $R^2$ Score: 0.007262599857186136\n",
    "\n",
    "The baseline model’s low $R^2$ score of 0.0077 shows that it does not do a good job of explaining the variance in outage durations. This suggests that additional features may be needed to improve our model’s performance. Some limitations of our baseline model include limited feature selection and the complex relationship between our chosen features and outage duration. The baseline model only considers CAUSE.CATEGORY and CLIMATE.REGION, which do not account for other potential predictive features such as DEMAND.LOSS.MW and CUSTOMERS.AFFECTED. The performance of our model suggests that outage duration is likely influenced by multiple interacting factors, which this baseline model currently fails to capture. In addition to the lack of necessary features, power outages and their durations may not follow a simple linear relationship."
   ]
  },
  {
   "cell_type": "markdown",
   "metadata": {},
   "source": [
    "## Final Model"
   ]
  },
  {
   "cell_type": "code",
   "execution_count": 24,
   "metadata": {},
   "outputs": [
    {
     "name": "stdout",
     "output_type": "stream",
     "text": [
      "Best Degree: 1\n",
      "Mean Squared Error (MSE): 25941331.59266683\n",
      "R² Score: 0.01183068532128484\n"
     ]
    }
   ],
   "source": [
    "# Feature Engineering\n",
    "def create_demand_per_customer(X):\n",
    "    return (X['DEMAND.LOSS.MW'] / X['CUSTOMERS.AFFECTED'].replace(0, np.nan)).values.reshape(-1, 1)\n",
    "\n",
    "def create_log_demand_loss(X):\n",
    "    return np.log(X['DEMAND.LOSS.MW'] + 1).values.reshape(-1, 1)\n",
    "\n",
    "features = ['MONTH', 'DEMAND.LOSS.MW', 'CUSTOMERS.AFFECTED']\n",
    "categoricalfeatures = [col for col in outages.columns if 'CAUSE.CATEGORY_' in col or 'CLIMATE.REGION_' in col]\n",
    "\n",
    "# Training Model\n",
    "preprocessor = ColumnTransformer(\n",
    "    transformers=[\n",
    "        ('demand_per_customer', FunctionTransformer(create_demand_per_customer), ['DEMAND.LOSS.MW', 'CUSTOMERS.AFFECTED']),\n",
    "        ('log_demand_loss', FunctionTransformer(create_log_demand_loss), ['DEMAND.LOSS.MW']),\n",
    "        ('categorical', 'passthrough', categoricalfeatures)  \n",
    "    ],\n",
    "    remainder='drop' \n",
    ")\n",
    "\n",
    "pipeline = Pipeline([\n",
    "    ('preprocessor', preprocessor),  \n",
    "    ('imputer', SimpleImputer(strategy='median')),  \n",
    "    ('poly', PolynomialFeatures()), \n",
    "    ('linear', LinearRegression()) \n",
    "])\n",
    "\n",
    "X = outages[features + categoricalfeatures].copy()\n",
    "y = outages['OUTAGE.DURATION']\n",
    "X.replace([np.inf, -np.inf], np.nan, inplace=True)\n",
    "X_train, X_test, y_train, y_test = train_test_split(X, y, test_size=0.2, random_state=42)\n",
    "\n",
    "param_grid = {\n",
    "    'poly__degree': [1, 2, 3]\n",
    "}\n",
    "\n",
    "grid_search = GridSearchCV(pipeline, param_grid, cv=5, scoring='neg_mean_squared_error', n_jobs=-1)\n",
    "grid_search.fit(X_train, y_train)\n",
    "\n",
    "best_model = grid_search.best_estimator_\n",
    "\n",
    "y_pred = best_model.predict(X_test)\n",
    "mse = mean_squared_error(y_test, y_pred)\n",
    "r2 = r2_score(y_test, y_pred)\n",
    "\n",
    "print(f\"Best Degree: {grid_search.best_params_['poly__degree']}\")\n",
    "print(f\"Mean Squared Error (MSE): {mse}\")\n",
    "print(f\"R² Score: {r2}\")"
   ]
  },
  {
   "cell_type": "markdown",
   "metadata": {},
   "source": [
    "#### Improvements from Baseline Model\n",
    "To enhance our baseline model, we incorporated feature engineering, explored non-linear relationships, and performed hyperparameter tuning to optimize the model’s performance. \n",
    "\n",
    "Notable Improvements include the following:\n",
    "- Addition of New Features\n",
    "    - DEMAND.LOSS.MW (Megawatts lost due to outage): A key indicator of outage severity. \n",
    "    - CUSTOMERS.AFFECTED (Number of customers affected by the outage): Higher value could indicate longer restoration times, as more people are affected.\n",
    "    - DEMAND_PER_CUSTOMER (Ratio of demand loss per customer): Captures the outage impact per customer.\n",
    "    - LOG_DEMAND_LOSS (Log-transformed demand loss): Put in place to make the data more suitable for regression analysis. \n",
    "        - Computed as log(DEMAND.LOSS.MW + 1)\n",
    "    - MONTH (Month in which the outage occurred): Captures the seasonal patterns affecting the outage duration. \n",
    "- Handling Missing Values\n",
    "    - We used median imputation to handle missing values in DEMAND.LOSS.MW and CUSTOMERS.AFFECTED to ensure consistency within our dataset.\n",
    "    - We replaced infinite values with NaN and re-imputed them to avoid computational errors from occurring. \n",
    "- Modeling Approach\n",
    "    - We applied Polynomial Regression to capture non-linear relationships in the data, rather than using a simple Linear Regression model. \n",
    "    - We used PolynomialFeatures() within an sklearn Pipeline to generate the polynomial terms.\n",
    "- Hyperparameter Tuning\n",
    "    - We applied GridSearchCV with 5-fold cross-validation and neg_mean_squared_error as our scoring metric.\n",
    "        - poly_degree: Is the degree of polynomial features, we decided to test values of 1, 2, and 3 to determine the best fit for the data. \n",
    "    - The best-performing model had a polynomial degree of 1, which suggests that a linear relationship best fits our dataset.\n",
    "\n",
    "#### Justification of Feature Engineering\n",
    "##### Demand_Per_Customer:\n",
    "This feature was created to capture the per-customer impact of an outage. Outages affecting fewer customers but with high demand loss may be prioritized differently by utility companies, resulting in shorter restoration times. By including this feature, the model would better account for the relationship between demand loss and outage duration. \n",
    "\n",
    "##### Log_Demand_Loss:\n",
    "The log transformation was applied in order to account for the skewness in the DEMAND.LOSS.MW column. Larger outages are not as frequent in this dataset, but can still disproportionately affect the model’s performance. By applying this transformation, we can reduce the influence of these outliers making the data more suitable for regression analysis. \n",
    "\n",
    "##### MONTH and Categorical Features:\n",
    "These features were included to account for seasonal patterns and regions differences in outage durations and causes. Outages caused by storms for instance, could take longer to restore than outages caused by equipment failure. \n",
    "\n",
    "#### Final Model Performance Assessment\n",
    "After training and evaluating our final model on the test set, we obtained the following results:\n",
    "- Mean Squared Error (MSE): 25,941,331.59266683\n",
    "- $R^2$ Score: 0.01183\n",
    "\n",
    "Although the $R^2$ score is still relatively low, we can see a noticeable improvement compared to the results from our baseline model (MSE: 26,061,252.56, R²: 0.0077). The decrease in our MSE value indicates that the model’s predictions are closer to the actual outage durations than before, meaning the model has better accuracy. The increase in our $R^2$ score suggests that the model captures more variance in outage duration, although there is still a significant amount of unexplained variance, indicating that additional features or a different modeling approach could further improve our performance. "
   ]
  },
  {
   "cell_type": "markdown",
   "metadata": {},
   "source": [
    "## Fairness Analysis"
   ]
  },
  {
   "cell_type": "code",
   "execution_count": 25,
   "metadata": {
    "ExecuteTime": {
     "end_time": "2019-10-31T23:36:28.666489Z",
     "start_time": "2019-10-31T23:36:28.664381Z"
    }
   },
   "outputs": [
    {
     "data": {
      "text/plain": [
       "CAUSE.CATEGORY\n",
       "severe weather                   763\n",
       "intentional attack               418\n",
       "system operability disruption    127\n",
       "public appeal                     69\n",
       "equipment failure                 60\n",
       "fuel supply emergency             51\n",
       "islanding                         46\n",
       "Name: count, dtype: int64"
      ]
     },
     "execution_count": 25,
     "metadata": {},
     "output_type": "execute_result"
    }
   ],
   "source": [
    "# Checking each value in CAUSE.CATEGORY\n",
    "outages['CAUSE.CATEGORY'].value_counts()"
   ]
  },
  {
   "cell_type": "code",
   "execution_count": 26,
   "metadata": {},
   "outputs": [],
   "source": [
    "# Creates binary column that determines whether the cause is severe weather or not\n",
    "outages['natural_cause'] = outages['CAUSE.CATEGORY'].isin(['severe weather']).astype(int)"
   ]
  },
  {
   "cell_type": "code",
   "execution_count": 27,
   "metadata": {},
   "outputs": [
    {
     "name": "stdout",
     "output_type": "stream",
     "text": [
      "Observed Difference in RMSE (Severe Weather - Not Severe Weather Causes): 2815.1174346001917\n"
     ]
    }
   ],
   "source": [
    "results = X_test.copy()\n",
    "results['OUTAGE.DURATION'] = y_test\n",
    "y_pred = best_model.predict(X_test)\n",
    "results['prediction'] = y_pred\n",
    "results['OUTAGE.DURATION'] = results['OUTAGE.DURATION'].fillna(0)\n",
    "results['prediction'] = results['prediction'].fillna(0)\n",
    "results['natural_cause'] = outages.loc[results.index, 'natural_cause']\n",
    "\n",
    "severe_weather_rmse = np.sqrt(mean_squared_error(\n",
    "    results[results['natural_cause'] == 1]['OUTAGE.DURATION'],\n",
    "    results[results['natural_cause'] == 1]['prediction']\n",
    "))\n",
    "\n",
    "not_severe_weather_rmse = np.sqrt(mean_squared_error(\n",
    "    results[results['natural_cause'] == 0]['OUTAGE.DURATION'],\n",
    "    results[results['natural_cause'] == 0]['prediction']\n",
    "))\n",
    "\n",
    "observed_rmse_diff = severe_weather_rmse - not_severe_weather_rmse\n",
    "print(f\"Observed Difference in RMSE (Severe Weather - Not Severe Weather Causes): {observed_rmse_diff}\")"
   ]
  },
  {
   "cell_type": "code",
   "execution_count": 28,
   "metadata": {},
   "outputs": [],
   "source": [
    "# Function to compute differences in RMSE\n",
    "def rmse_difference(results):\n",
    "    severe_weather_rmse = np.sqrt(mean_squared_error(\n",
    "        results[results['natural_cause'] == 1]['OUTAGE.DURATION'],\n",
    "        results[results['natural_cause'] == 1]['prediction']\n",
    "    ))\n",
    "    not_severe_weather_rmse = np.sqrt(mean_squared_error(\n",
    "        results[results['natural_cause'] == 0]['OUTAGE.DURATION'],\n",
    "        results[results['natural_cause'] == 0]['prediction']\n",
    "    ))\n",
    "    return severe_weather_rmse - not_severe_weather_rmse"
   ]
  },
  {
   "cell_type": "code",
   "execution_count": 29,
   "metadata": {},
   "outputs": [
    {
     "name": "stdout",
     "output_type": "stream",
     "text": [
      "P-value: 1.0\n"
     ]
    }
   ],
   "source": [
    "# Permutation Test for Fairness using RMSE\n",
    "rmse_differences = []\n",
    "\n",
    "for n in range(1000):\n",
    "    shuffled = results.assign(Shuffled_natural_cause=np.random.permutation(results['natural_cause']))\n",
    "    rmse_diff = rmse_difference(shuffled)\n",
    "    rmse_differences.append(rmse_diff)\n",
    "\n",
    "p_value = (np.abs(rmse_differences) >= np.abs(observed_rmse_diff)).mean()\n",
    "print(f\"P-value: {p_value}\")"
   ]
  },
  {
   "cell_type": "code",
   "execution_count": 30,
   "metadata": {
    "scrolled": true
   },
   "outputs": [
    {
     "data": {
      "text/html": [
       "<iframe\n",
       "    scrolling=\"no\"\n",
       "    width=\"100%\"\n",
       "    height=\"545px\"\n",
       "    src=\"iframe_figures/figure_30.html\"\n",
       "    frameborder=\"0\"\n",
       "    allowfullscreen\n",
       "></iframe>\n"
      ]
     },
     "metadata": {},
     "output_type": "display_data"
    },
    {
     "name": "stdout",
     "output_type": "stream",
     "text": [
      "[np.float64(2815.1174346001917), np.float64(2815.1174346001917), np.float64(2815.1174346001917), np.float64(2815.1174346001917), np.float64(2815.1174346001917), np.float64(2815.1174346001917), np.float64(2815.1174346001917), np.float64(2815.1174346001917), np.float64(2815.1174346001917), np.float64(2815.1174346001917), np.float64(2815.1174346001917), np.float64(2815.1174346001917), np.float64(2815.1174346001917), np.float64(2815.1174346001917), np.float64(2815.1174346001917), np.float64(2815.1174346001917), np.float64(2815.1174346001917), np.float64(2815.1174346001917), np.float64(2815.1174346001917), np.float64(2815.1174346001917), np.float64(2815.1174346001917), np.float64(2815.1174346001917), np.float64(2815.1174346001917), np.float64(2815.1174346001917), np.float64(2815.1174346001917), np.float64(2815.1174346001917), np.float64(2815.1174346001917), np.float64(2815.1174346001917), np.float64(2815.1174346001917), np.float64(2815.1174346001917), np.float64(2815.1174346001917), np.float64(2815.1174346001917), np.float64(2815.1174346001917), np.float64(2815.1174346001917), np.float64(2815.1174346001917), np.float64(2815.1174346001917), np.float64(2815.1174346001917), np.float64(2815.1174346001917), np.float64(2815.1174346001917), np.float64(2815.1174346001917), np.float64(2815.1174346001917), np.float64(2815.1174346001917), np.float64(2815.1174346001917), np.float64(2815.1174346001917), np.float64(2815.1174346001917), np.float64(2815.1174346001917), np.float64(2815.1174346001917), np.float64(2815.1174346001917), np.float64(2815.1174346001917), np.float64(2815.1174346001917), np.float64(2815.1174346001917), np.float64(2815.1174346001917), np.float64(2815.1174346001917), np.float64(2815.1174346001917), np.float64(2815.1174346001917), np.float64(2815.1174346001917), np.float64(2815.1174346001917), np.float64(2815.1174346001917), np.float64(2815.1174346001917), np.float64(2815.1174346001917), np.float64(2815.1174346001917), np.float64(2815.1174346001917), np.float64(2815.1174346001917), np.float64(2815.1174346001917), np.float64(2815.1174346001917), np.float64(2815.1174346001917), np.float64(2815.1174346001917), np.float64(2815.1174346001917), np.float64(2815.1174346001917), np.float64(2815.1174346001917), np.float64(2815.1174346001917), np.float64(2815.1174346001917), np.float64(2815.1174346001917), np.float64(2815.1174346001917), np.float64(2815.1174346001917), np.float64(2815.1174346001917), np.float64(2815.1174346001917), np.float64(2815.1174346001917), np.float64(2815.1174346001917), np.float64(2815.1174346001917), np.float64(2815.1174346001917), np.float64(2815.1174346001917), np.float64(2815.1174346001917), np.float64(2815.1174346001917), np.float64(2815.1174346001917), np.float64(2815.1174346001917), np.float64(2815.1174346001917), np.float64(2815.1174346001917), np.float64(2815.1174346001917), np.float64(2815.1174346001917), np.float64(2815.1174346001917), np.float64(2815.1174346001917), np.float64(2815.1174346001917), np.float64(2815.1174346001917), np.float64(2815.1174346001917), np.float64(2815.1174346001917), np.float64(2815.1174346001917), np.float64(2815.1174346001917), np.float64(2815.1174346001917), np.float64(2815.1174346001917), np.float64(2815.1174346001917), np.float64(2815.1174346001917), np.float64(2815.1174346001917), np.float64(2815.1174346001917), np.float64(2815.1174346001917), np.float64(2815.1174346001917), np.float64(2815.1174346001917), np.float64(2815.1174346001917), np.float64(2815.1174346001917), np.float64(2815.1174346001917), np.float64(2815.1174346001917), np.float64(2815.1174346001917), np.float64(2815.1174346001917), np.float64(2815.1174346001917), np.float64(2815.1174346001917), np.float64(2815.1174346001917), np.float64(2815.1174346001917), np.float64(2815.1174346001917), np.float64(2815.1174346001917), np.float64(2815.1174346001917), np.float64(2815.1174346001917), np.float64(2815.1174346001917), np.float64(2815.1174346001917), np.float64(2815.1174346001917), np.float64(2815.1174346001917), np.float64(2815.1174346001917), np.float64(2815.1174346001917), np.float64(2815.1174346001917), np.float64(2815.1174346001917), np.float64(2815.1174346001917), np.float64(2815.1174346001917), np.float64(2815.1174346001917), np.float64(2815.1174346001917), np.float64(2815.1174346001917), np.float64(2815.1174346001917), np.float64(2815.1174346001917), np.float64(2815.1174346001917), np.float64(2815.1174346001917), np.float64(2815.1174346001917), np.float64(2815.1174346001917), np.float64(2815.1174346001917), np.float64(2815.1174346001917), np.float64(2815.1174346001917), np.float64(2815.1174346001917), np.float64(2815.1174346001917), np.float64(2815.1174346001917), np.float64(2815.1174346001917), np.float64(2815.1174346001917), np.float64(2815.1174346001917), np.float64(2815.1174346001917), np.float64(2815.1174346001917), np.float64(2815.1174346001917), np.float64(2815.1174346001917), np.float64(2815.1174346001917), np.float64(2815.1174346001917), np.float64(2815.1174346001917), np.float64(2815.1174346001917), np.float64(2815.1174346001917), np.float64(2815.1174346001917), np.float64(2815.1174346001917), np.float64(2815.1174346001917), np.float64(2815.1174346001917), np.float64(2815.1174346001917), np.float64(2815.1174346001917), np.float64(2815.1174346001917), np.float64(2815.1174346001917), np.float64(2815.1174346001917), np.float64(2815.1174346001917), np.float64(2815.1174346001917), np.float64(2815.1174346001917), np.float64(2815.1174346001917), np.float64(2815.1174346001917), np.float64(2815.1174346001917), np.float64(2815.1174346001917), np.float64(2815.1174346001917), np.float64(2815.1174346001917), np.float64(2815.1174346001917), np.float64(2815.1174346001917), np.float64(2815.1174346001917), np.float64(2815.1174346001917), np.float64(2815.1174346001917), np.float64(2815.1174346001917), np.float64(2815.1174346001917), np.float64(2815.1174346001917), np.float64(2815.1174346001917), np.float64(2815.1174346001917), np.float64(2815.1174346001917), np.float64(2815.1174346001917), np.float64(2815.1174346001917), np.float64(2815.1174346001917), np.float64(2815.1174346001917), np.float64(2815.1174346001917), np.float64(2815.1174346001917), np.float64(2815.1174346001917), np.float64(2815.1174346001917), np.float64(2815.1174346001917), np.float64(2815.1174346001917), np.float64(2815.1174346001917), np.float64(2815.1174346001917), np.float64(2815.1174346001917), np.float64(2815.1174346001917), np.float64(2815.1174346001917), np.float64(2815.1174346001917), np.float64(2815.1174346001917), np.float64(2815.1174346001917), np.float64(2815.1174346001917), np.float64(2815.1174346001917), np.float64(2815.1174346001917), np.float64(2815.1174346001917), np.float64(2815.1174346001917), np.float64(2815.1174346001917), np.float64(2815.1174346001917), np.float64(2815.1174346001917), np.float64(2815.1174346001917), np.float64(2815.1174346001917), np.float64(2815.1174346001917), np.float64(2815.1174346001917), np.float64(2815.1174346001917), np.float64(2815.1174346001917), np.float64(2815.1174346001917), np.float64(2815.1174346001917), np.float64(2815.1174346001917), np.float64(2815.1174346001917), np.float64(2815.1174346001917), np.float64(2815.1174346001917), np.float64(2815.1174346001917), np.float64(2815.1174346001917), np.float64(2815.1174346001917), np.float64(2815.1174346001917), np.float64(2815.1174346001917), np.float64(2815.1174346001917), np.float64(2815.1174346001917), np.float64(2815.1174346001917), np.float64(2815.1174346001917), np.float64(2815.1174346001917), np.float64(2815.1174346001917), np.float64(2815.1174346001917), np.float64(2815.1174346001917), np.float64(2815.1174346001917), np.float64(2815.1174346001917), np.float64(2815.1174346001917), np.float64(2815.1174346001917), np.float64(2815.1174346001917), np.float64(2815.1174346001917), np.float64(2815.1174346001917), np.float64(2815.1174346001917), np.float64(2815.1174346001917), np.float64(2815.1174346001917), np.float64(2815.1174346001917), np.float64(2815.1174346001917), np.float64(2815.1174346001917), np.float64(2815.1174346001917), np.float64(2815.1174346001917), np.float64(2815.1174346001917), np.float64(2815.1174346001917), np.float64(2815.1174346001917), np.float64(2815.1174346001917), np.float64(2815.1174346001917), np.float64(2815.1174346001917), np.float64(2815.1174346001917), np.float64(2815.1174346001917), np.float64(2815.1174346001917), np.float64(2815.1174346001917), np.float64(2815.1174346001917), np.float64(2815.1174346001917), np.float64(2815.1174346001917), np.float64(2815.1174346001917), np.float64(2815.1174346001917), np.float64(2815.1174346001917), np.float64(2815.1174346001917), np.float64(2815.1174346001917), np.float64(2815.1174346001917), np.float64(2815.1174346001917), np.float64(2815.1174346001917), np.float64(2815.1174346001917), np.float64(2815.1174346001917), np.float64(2815.1174346001917), np.float64(2815.1174346001917), np.float64(2815.1174346001917), np.float64(2815.1174346001917), np.float64(2815.1174346001917), np.float64(2815.1174346001917), np.float64(2815.1174346001917), np.float64(2815.1174346001917), np.float64(2815.1174346001917), np.float64(2815.1174346001917), np.float64(2815.1174346001917), np.float64(2815.1174346001917), np.float64(2815.1174346001917), np.float64(2815.1174346001917), np.float64(2815.1174346001917), np.float64(2815.1174346001917), np.float64(2815.1174346001917), np.float64(2815.1174346001917), np.float64(2815.1174346001917), np.float64(2815.1174346001917), np.float64(2815.1174346001917), np.float64(2815.1174346001917), np.float64(2815.1174346001917), np.float64(2815.1174346001917), np.float64(2815.1174346001917), np.float64(2815.1174346001917), np.float64(2815.1174346001917), np.float64(2815.1174346001917), np.float64(2815.1174346001917), np.float64(2815.1174346001917), np.float64(2815.1174346001917), np.float64(2815.1174346001917), np.float64(2815.1174346001917), np.float64(2815.1174346001917), np.float64(2815.1174346001917), np.float64(2815.1174346001917), np.float64(2815.1174346001917), np.float64(2815.1174346001917), np.float64(2815.1174346001917), np.float64(2815.1174346001917), np.float64(2815.1174346001917), np.float64(2815.1174346001917), np.float64(2815.1174346001917), np.float64(2815.1174346001917), np.float64(2815.1174346001917), np.float64(2815.1174346001917), np.float64(2815.1174346001917), np.float64(2815.1174346001917), np.float64(2815.1174346001917), np.float64(2815.1174346001917), np.float64(2815.1174346001917), np.float64(2815.1174346001917), np.float64(2815.1174346001917), np.float64(2815.1174346001917), np.float64(2815.1174346001917), np.float64(2815.1174346001917), np.float64(2815.1174346001917), np.float64(2815.1174346001917), np.float64(2815.1174346001917), np.float64(2815.1174346001917), np.float64(2815.1174346001917), np.float64(2815.1174346001917), np.float64(2815.1174346001917), np.float64(2815.1174346001917), np.float64(2815.1174346001917), np.float64(2815.1174346001917), np.float64(2815.1174346001917), np.float64(2815.1174346001917), np.float64(2815.1174346001917), np.float64(2815.1174346001917), np.float64(2815.1174346001917), np.float64(2815.1174346001917), np.float64(2815.1174346001917), np.float64(2815.1174346001917), np.float64(2815.1174346001917), np.float64(2815.1174346001917), np.float64(2815.1174346001917), np.float64(2815.1174346001917), np.float64(2815.1174346001917), np.float64(2815.1174346001917), np.float64(2815.1174346001917), np.float64(2815.1174346001917), np.float64(2815.1174346001917), np.float64(2815.1174346001917), np.float64(2815.1174346001917), np.float64(2815.1174346001917), np.float64(2815.1174346001917), np.float64(2815.1174346001917), np.float64(2815.1174346001917), np.float64(2815.1174346001917), np.float64(2815.1174346001917), np.float64(2815.1174346001917), np.float64(2815.1174346001917), np.float64(2815.1174346001917), np.float64(2815.1174346001917), np.float64(2815.1174346001917), np.float64(2815.1174346001917), np.float64(2815.1174346001917), np.float64(2815.1174346001917), np.float64(2815.1174346001917), np.float64(2815.1174346001917), np.float64(2815.1174346001917), np.float64(2815.1174346001917), np.float64(2815.1174346001917), np.float64(2815.1174346001917), np.float64(2815.1174346001917), np.float64(2815.1174346001917), np.float64(2815.1174346001917), np.float64(2815.1174346001917), np.float64(2815.1174346001917), np.float64(2815.1174346001917), np.float64(2815.1174346001917), np.float64(2815.1174346001917), np.float64(2815.1174346001917), np.float64(2815.1174346001917), np.float64(2815.1174346001917), np.float64(2815.1174346001917), np.float64(2815.1174346001917), np.float64(2815.1174346001917), np.float64(2815.1174346001917), np.float64(2815.1174346001917), np.float64(2815.1174346001917), np.float64(2815.1174346001917), np.float64(2815.1174346001917), np.float64(2815.1174346001917), np.float64(2815.1174346001917), np.float64(2815.1174346001917), np.float64(2815.1174346001917), np.float64(2815.1174346001917), np.float64(2815.1174346001917), np.float64(2815.1174346001917), np.float64(2815.1174346001917), np.float64(2815.1174346001917), np.float64(2815.1174346001917), np.float64(2815.1174346001917), np.float64(2815.1174346001917), np.float64(2815.1174346001917), np.float64(2815.1174346001917), np.float64(2815.1174346001917), np.float64(2815.1174346001917), np.float64(2815.1174346001917), np.float64(2815.1174346001917), np.float64(2815.1174346001917), np.float64(2815.1174346001917), np.float64(2815.1174346001917), np.float64(2815.1174346001917), np.float64(2815.1174346001917), np.float64(2815.1174346001917), np.float64(2815.1174346001917), np.float64(2815.1174346001917), np.float64(2815.1174346001917), np.float64(2815.1174346001917), np.float64(2815.1174346001917), np.float64(2815.1174346001917), np.float64(2815.1174346001917), np.float64(2815.1174346001917), np.float64(2815.1174346001917), np.float64(2815.1174346001917), np.float64(2815.1174346001917), np.float64(2815.1174346001917), np.float64(2815.1174346001917), np.float64(2815.1174346001917), np.float64(2815.1174346001917), np.float64(2815.1174346001917), np.float64(2815.1174346001917), np.float64(2815.1174346001917), np.float64(2815.1174346001917), np.float64(2815.1174346001917), np.float64(2815.1174346001917), np.float64(2815.1174346001917), np.float64(2815.1174346001917), np.float64(2815.1174346001917), np.float64(2815.1174346001917), np.float64(2815.1174346001917), np.float64(2815.1174346001917), np.float64(2815.1174346001917), np.float64(2815.1174346001917), np.float64(2815.1174346001917), np.float64(2815.1174346001917), np.float64(2815.1174346001917), np.float64(2815.1174346001917), np.float64(2815.1174346001917), np.float64(2815.1174346001917), np.float64(2815.1174346001917), np.float64(2815.1174346001917), np.float64(2815.1174346001917), np.float64(2815.1174346001917), np.float64(2815.1174346001917), np.float64(2815.1174346001917), np.float64(2815.1174346001917), np.float64(2815.1174346001917), np.float64(2815.1174346001917), np.float64(2815.1174346001917), np.float64(2815.1174346001917), np.float64(2815.1174346001917), np.float64(2815.1174346001917), np.float64(2815.1174346001917), np.float64(2815.1174346001917), np.float64(2815.1174346001917), np.float64(2815.1174346001917), np.float64(2815.1174346001917), np.float64(2815.1174346001917), np.float64(2815.1174346001917), np.float64(2815.1174346001917), np.float64(2815.1174346001917), np.float64(2815.1174346001917), np.float64(2815.1174346001917), np.float64(2815.1174346001917), np.float64(2815.1174346001917), np.float64(2815.1174346001917), np.float64(2815.1174346001917), np.float64(2815.1174346001917), np.float64(2815.1174346001917), np.float64(2815.1174346001917), np.float64(2815.1174346001917), np.float64(2815.1174346001917), np.float64(2815.1174346001917), np.float64(2815.1174346001917), np.float64(2815.1174346001917), np.float64(2815.1174346001917), np.float64(2815.1174346001917), np.float64(2815.1174346001917), np.float64(2815.1174346001917), np.float64(2815.1174346001917), np.float64(2815.1174346001917), np.float64(2815.1174346001917), np.float64(2815.1174346001917), np.float64(2815.1174346001917), np.float64(2815.1174346001917), np.float64(2815.1174346001917), np.float64(2815.1174346001917), np.float64(2815.1174346001917), np.float64(2815.1174346001917), np.float64(2815.1174346001917), np.float64(2815.1174346001917), np.float64(2815.1174346001917), np.float64(2815.1174346001917), np.float64(2815.1174346001917), np.float64(2815.1174346001917), np.float64(2815.1174346001917), np.float64(2815.1174346001917), np.float64(2815.1174346001917), np.float64(2815.1174346001917), np.float64(2815.1174346001917), np.float64(2815.1174346001917), np.float64(2815.1174346001917), np.float64(2815.1174346001917), np.float64(2815.1174346001917), np.float64(2815.1174346001917), np.float64(2815.1174346001917), np.float64(2815.1174346001917), np.float64(2815.1174346001917), np.float64(2815.1174346001917), np.float64(2815.1174346001917), np.float64(2815.1174346001917), np.float64(2815.1174346001917), np.float64(2815.1174346001917), np.float64(2815.1174346001917), np.float64(2815.1174346001917), np.float64(2815.1174346001917), np.float64(2815.1174346001917), np.float64(2815.1174346001917), np.float64(2815.1174346001917), np.float64(2815.1174346001917), np.float64(2815.1174346001917), np.float64(2815.1174346001917), np.float64(2815.1174346001917), np.float64(2815.1174346001917), np.float64(2815.1174346001917), np.float64(2815.1174346001917), np.float64(2815.1174346001917), np.float64(2815.1174346001917), np.float64(2815.1174346001917), np.float64(2815.1174346001917), np.float64(2815.1174346001917), np.float64(2815.1174346001917), np.float64(2815.1174346001917), np.float64(2815.1174346001917), np.float64(2815.1174346001917), np.float64(2815.1174346001917), np.float64(2815.1174346001917), np.float64(2815.1174346001917), np.float64(2815.1174346001917), np.float64(2815.1174346001917), np.float64(2815.1174346001917), np.float64(2815.1174346001917), np.float64(2815.1174346001917), np.float64(2815.1174346001917), np.float64(2815.1174346001917), np.float64(2815.1174346001917), np.float64(2815.1174346001917), np.float64(2815.1174346001917), np.float64(2815.1174346001917), np.float64(2815.1174346001917), np.float64(2815.1174346001917), np.float64(2815.1174346001917), np.float64(2815.1174346001917), np.float64(2815.1174346001917), np.float64(2815.1174346001917), np.float64(2815.1174346001917), np.float64(2815.1174346001917), np.float64(2815.1174346001917), np.float64(2815.1174346001917), np.float64(2815.1174346001917), np.float64(2815.1174346001917), np.float64(2815.1174346001917), np.float64(2815.1174346001917), np.float64(2815.1174346001917), np.float64(2815.1174346001917), np.float64(2815.1174346001917), np.float64(2815.1174346001917), np.float64(2815.1174346001917), np.float64(2815.1174346001917), np.float64(2815.1174346001917), np.float64(2815.1174346001917), np.float64(2815.1174346001917), np.float64(2815.1174346001917), np.float64(2815.1174346001917), np.float64(2815.1174346001917), np.float64(2815.1174346001917), np.float64(2815.1174346001917), np.float64(2815.1174346001917), np.float64(2815.1174346001917), np.float64(2815.1174346001917), np.float64(2815.1174346001917), np.float64(2815.1174346001917), np.float64(2815.1174346001917), np.float64(2815.1174346001917), np.float64(2815.1174346001917), np.float64(2815.1174346001917), np.float64(2815.1174346001917), np.float64(2815.1174346001917), np.float64(2815.1174346001917), np.float64(2815.1174346001917), np.float64(2815.1174346001917), np.float64(2815.1174346001917), np.float64(2815.1174346001917), np.float64(2815.1174346001917), np.float64(2815.1174346001917), np.float64(2815.1174346001917), np.float64(2815.1174346001917), np.float64(2815.1174346001917), np.float64(2815.1174346001917), np.float64(2815.1174346001917), np.float64(2815.1174346001917), np.float64(2815.1174346001917), np.float64(2815.1174346001917), np.float64(2815.1174346001917), np.float64(2815.1174346001917), np.float64(2815.1174346001917), np.float64(2815.1174346001917), np.float64(2815.1174346001917), np.float64(2815.1174346001917), np.float64(2815.1174346001917), np.float64(2815.1174346001917), np.float64(2815.1174346001917), np.float64(2815.1174346001917), np.float64(2815.1174346001917), np.float64(2815.1174346001917), np.float64(2815.1174346001917), np.float64(2815.1174346001917), np.float64(2815.1174346001917), np.float64(2815.1174346001917), np.float64(2815.1174346001917), np.float64(2815.1174346001917), np.float64(2815.1174346001917), np.float64(2815.1174346001917), np.float64(2815.1174346001917), np.float64(2815.1174346001917), np.float64(2815.1174346001917), np.float64(2815.1174346001917), np.float64(2815.1174346001917), np.float64(2815.1174346001917), np.float64(2815.1174346001917), np.float64(2815.1174346001917), np.float64(2815.1174346001917), np.float64(2815.1174346001917), np.float64(2815.1174346001917), np.float64(2815.1174346001917), np.float64(2815.1174346001917), np.float64(2815.1174346001917), np.float64(2815.1174346001917), np.float64(2815.1174346001917), np.float64(2815.1174346001917), np.float64(2815.1174346001917), np.float64(2815.1174346001917), np.float64(2815.1174346001917), np.float64(2815.1174346001917), np.float64(2815.1174346001917), np.float64(2815.1174346001917), np.float64(2815.1174346001917), np.float64(2815.1174346001917), np.float64(2815.1174346001917), np.float64(2815.1174346001917), np.float64(2815.1174346001917), np.float64(2815.1174346001917), np.float64(2815.1174346001917), np.float64(2815.1174346001917), np.float64(2815.1174346001917), np.float64(2815.1174346001917), np.float64(2815.1174346001917), np.float64(2815.1174346001917), np.float64(2815.1174346001917), np.float64(2815.1174346001917), np.float64(2815.1174346001917), np.float64(2815.1174346001917), np.float64(2815.1174346001917), np.float64(2815.1174346001917), np.float64(2815.1174346001917), np.float64(2815.1174346001917), np.float64(2815.1174346001917), np.float64(2815.1174346001917), np.float64(2815.1174346001917), np.float64(2815.1174346001917), np.float64(2815.1174346001917), np.float64(2815.1174346001917), np.float64(2815.1174346001917), np.float64(2815.1174346001917), np.float64(2815.1174346001917), np.float64(2815.1174346001917), np.float64(2815.1174346001917), np.float64(2815.1174346001917), np.float64(2815.1174346001917), np.float64(2815.1174346001917), np.float64(2815.1174346001917), np.float64(2815.1174346001917), np.float64(2815.1174346001917), np.float64(2815.1174346001917), np.float64(2815.1174346001917), np.float64(2815.1174346001917), np.float64(2815.1174346001917), np.float64(2815.1174346001917), np.float64(2815.1174346001917), np.float64(2815.1174346001917), np.float64(2815.1174346001917), np.float64(2815.1174346001917), np.float64(2815.1174346001917), np.float64(2815.1174346001917), np.float64(2815.1174346001917), np.float64(2815.1174346001917), np.float64(2815.1174346001917), np.float64(2815.1174346001917), np.float64(2815.1174346001917), np.float64(2815.1174346001917), np.float64(2815.1174346001917), np.float64(2815.1174346001917), np.float64(2815.1174346001917), np.float64(2815.1174346001917), np.float64(2815.1174346001917), np.float64(2815.1174346001917), np.float64(2815.1174346001917), np.float64(2815.1174346001917), np.float64(2815.1174346001917), np.float64(2815.1174346001917), np.float64(2815.1174346001917), np.float64(2815.1174346001917), np.float64(2815.1174346001917), np.float64(2815.1174346001917), np.float64(2815.1174346001917), np.float64(2815.1174346001917), np.float64(2815.1174346001917), np.float64(2815.1174346001917), np.float64(2815.1174346001917), np.float64(2815.1174346001917), np.float64(2815.1174346001917), np.float64(2815.1174346001917), np.float64(2815.1174346001917), np.float64(2815.1174346001917), np.float64(2815.1174346001917), np.float64(2815.1174346001917), np.float64(2815.1174346001917), np.float64(2815.1174346001917), np.float64(2815.1174346001917), np.float64(2815.1174346001917), np.float64(2815.1174346001917), np.float64(2815.1174346001917), np.float64(2815.1174346001917), np.float64(2815.1174346001917), np.float64(2815.1174346001917), np.float64(2815.1174346001917), np.float64(2815.1174346001917), np.float64(2815.1174346001917), np.float64(2815.1174346001917), np.float64(2815.1174346001917), np.float64(2815.1174346001917), np.float64(2815.1174346001917), np.float64(2815.1174346001917), np.float64(2815.1174346001917), np.float64(2815.1174346001917), np.float64(2815.1174346001917), np.float64(2815.1174346001917), np.float64(2815.1174346001917), np.float64(2815.1174346001917), np.float64(2815.1174346001917), np.float64(2815.1174346001917), np.float64(2815.1174346001917), np.float64(2815.1174346001917), np.float64(2815.1174346001917), np.float64(2815.1174346001917), np.float64(2815.1174346001917), np.float64(2815.1174346001917), np.float64(2815.1174346001917), np.float64(2815.1174346001917), np.float64(2815.1174346001917), np.float64(2815.1174346001917), np.float64(2815.1174346001917), np.float64(2815.1174346001917), np.float64(2815.1174346001917), np.float64(2815.1174346001917), np.float64(2815.1174346001917), np.float64(2815.1174346001917), np.float64(2815.1174346001917), np.float64(2815.1174346001917), np.float64(2815.1174346001917), np.float64(2815.1174346001917), np.float64(2815.1174346001917), np.float64(2815.1174346001917), np.float64(2815.1174346001917), np.float64(2815.1174346001917), np.float64(2815.1174346001917), np.float64(2815.1174346001917), np.float64(2815.1174346001917), np.float64(2815.1174346001917), np.float64(2815.1174346001917), np.float64(2815.1174346001917), np.float64(2815.1174346001917), np.float64(2815.1174346001917), np.float64(2815.1174346001917), np.float64(2815.1174346001917), np.float64(2815.1174346001917), np.float64(2815.1174346001917), np.float64(2815.1174346001917), np.float64(2815.1174346001917), np.float64(2815.1174346001917), np.float64(2815.1174346001917), np.float64(2815.1174346001917), np.float64(2815.1174346001917), np.float64(2815.1174346001917), np.float64(2815.1174346001917), np.float64(2815.1174346001917), np.float64(2815.1174346001917), np.float64(2815.1174346001917), np.float64(2815.1174346001917), np.float64(2815.1174346001917), np.float64(2815.1174346001917), np.float64(2815.1174346001917), np.float64(2815.1174346001917), np.float64(2815.1174346001917), np.float64(2815.1174346001917), np.float64(2815.1174346001917), np.float64(2815.1174346001917), np.float64(2815.1174346001917), np.float64(2815.1174346001917), np.float64(2815.1174346001917), np.float64(2815.1174346001917), np.float64(2815.1174346001917), np.float64(2815.1174346001917), np.float64(2815.1174346001917), np.float64(2815.1174346001917), np.float64(2815.1174346001917), np.float64(2815.1174346001917), np.float64(2815.1174346001917), np.float64(2815.1174346001917), np.float64(2815.1174346001917), np.float64(2815.1174346001917), np.float64(2815.1174346001917), np.float64(2815.1174346001917), np.float64(2815.1174346001917), np.float64(2815.1174346001917), np.float64(2815.1174346001917), np.float64(2815.1174346001917), np.float64(2815.1174346001917), np.float64(2815.1174346001917), np.float64(2815.1174346001917), np.float64(2815.1174346001917), np.float64(2815.1174346001917), np.float64(2815.1174346001917), np.float64(2815.1174346001917), np.float64(2815.1174346001917), np.float64(2815.1174346001917), np.float64(2815.1174346001917), np.float64(2815.1174346001917), np.float64(2815.1174346001917), np.float64(2815.1174346001917), np.float64(2815.1174346001917), np.float64(2815.1174346001917), np.float64(2815.1174346001917), np.float64(2815.1174346001917), np.float64(2815.1174346001917), np.float64(2815.1174346001917), np.float64(2815.1174346001917), np.float64(2815.1174346001917), np.float64(2815.1174346001917), np.float64(2815.1174346001917), np.float64(2815.1174346001917), np.float64(2815.1174346001917), np.float64(2815.1174346001917), np.float64(2815.1174346001917), np.float64(2815.1174346001917), np.float64(2815.1174346001917), np.float64(2815.1174346001917), np.float64(2815.1174346001917), np.float64(2815.1174346001917), np.float64(2815.1174346001917), np.float64(2815.1174346001917), np.float64(2815.1174346001917), np.float64(2815.1174346001917), np.float64(2815.1174346001917), np.float64(2815.1174346001917), np.float64(2815.1174346001917), np.float64(2815.1174346001917), np.float64(2815.1174346001917), np.float64(2815.1174346001917), np.float64(2815.1174346001917), np.float64(2815.1174346001917), np.float64(2815.1174346001917), np.float64(2815.1174346001917), np.float64(2815.1174346001917), np.float64(2815.1174346001917), np.float64(2815.1174346001917), np.float64(2815.1174346001917), np.float64(2815.1174346001917), np.float64(2815.1174346001917), np.float64(2815.1174346001917), np.float64(2815.1174346001917), np.float64(2815.1174346001917), np.float64(2815.1174346001917), np.float64(2815.1174346001917), np.float64(2815.1174346001917), np.float64(2815.1174346001917), np.float64(2815.1174346001917), np.float64(2815.1174346001917), np.float64(2815.1174346001917), np.float64(2815.1174346001917), np.float64(2815.1174346001917), np.float64(2815.1174346001917), np.float64(2815.1174346001917), np.float64(2815.1174346001917), np.float64(2815.1174346001917), np.float64(2815.1174346001917), np.float64(2815.1174346001917), np.float64(2815.1174346001917), np.float64(2815.1174346001917), np.float64(2815.1174346001917), np.float64(2815.1174346001917), np.float64(2815.1174346001917), np.float64(2815.1174346001917), np.float64(2815.1174346001917), np.float64(2815.1174346001917), np.float64(2815.1174346001917), np.float64(2815.1174346001917), np.float64(2815.1174346001917), np.float64(2815.1174346001917), np.float64(2815.1174346001917), np.float64(2815.1174346001917), np.float64(2815.1174346001917), np.float64(2815.1174346001917), np.float64(2815.1174346001917), np.float64(2815.1174346001917), np.float64(2815.1174346001917), np.float64(2815.1174346001917), np.float64(2815.1174346001917), np.float64(2815.1174346001917), np.float64(2815.1174346001917), np.float64(2815.1174346001917), np.float64(2815.1174346001917), np.float64(2815.1174346001917), np.float64(2815.1174346001917), np.float64(2815.1174346001917), np.float64(2815.1174346001917), np.float64(2815.1174346001917), np.float64(2815.1174346001917), np.float64(2815.1174346001917), np.float64(2815.1174346001917), np.float64(2815.1174346001917), np.float64(2815.1174346001917), np.float64(2815.1174346001917), np.float64(2815.1174346001917), np.float64(2815.1174346001917), np.float64(2815.1174346001917), np.float64(2815.1174346001917), np.float64(2815.1174346001917), np.float64(2815.1174346001917), np.float64(2815.1174346001917), np.float64(2815.1174346001917), np.float64(2815.1174346001917), np.float64(2815.1174346001917), np.float64(2815.1174346001917), np.float64(2815.1174346001917), np.float64(2815.1174346001917), np.float64(2815.1174346001917), np.float64(2815.1174346001917), np.float64(2815.1174346001917), np.float64(2815.1174346001917), np.float64(2815.1174346001917), np.float64(2815.1174346001917), np.float64(2815.1174346001917), np.float64(2815.1174346001917), np.float64(2815.1174346001917), np.float64(2815.1174346001917), np.float64(2815.1174346001917), np.float64(2815.1174346001917), np.float64(2815.1174346001917), np.float64(2815.1174346001917), np.float64(2815.1174346001917), np.float64(2815.1174346001917), np.float64(2815.1174346001917), np.float64(2815.1174346001917), np.float64(2815.1174346001917), np.float64(2815.1174346001917), np.float64(2815.1174346001917), np.float64(2815.1174346001917), np.float64(2815.1174346001917), np.float64(2815.1174346001917), np.float64(2815.1174346001917), np.float64(2815.1174346001917), np.float64(2815.1174346001917), np.float64(2815.1174346001917), np.float64(2815.1174346001917), np.float64(2815.1174346001917), np.float64(2815.1174346001917), np.float64(2815.1174346001917), np.float64(2815.1174346001917), np.float64(2815.1174346001917)]\n"
     ]
    }
   ],
   "source": [
    "# Histogram of differenes in RMSE\n",
    "fig = px.histogram([float(x) for x in rmse_differences], nbins=20, labels={'value': 'Difference in RMSE'},\n",
    "                   title='Difference in RMSE (Severe Weather - Not Severe Weather Causes)')\n",
    "fig.add_vline(x=observed_diff, line_color='red', annotation_text=f'Observed Difference in RMSE: {observed_rmse_diff:.2f}')\n",
    "fig.update_layout(xaxis_title='Difference in RMSE', yaxis_title='Frequency')\n",
    "fig.show()\n",
    "\n",
    "print(rmse_differences)"
   ]
  }
 ],
 "metadata": {
  "kernelspec": {
   "display_name": "Python 3 (ipykernel)",
   "language": "python",
   "name": "python3"
  },
  "language_info": {
   "codemirror_mode": {
    "name": "ipython",
    "version": 3
   },
   "file_extension": ".py",
   "mimetype": "text/x-python",
   "name": "python",
   "nbconvert_exporter": "python",
   "pygments_lexer": "ipython3",
   "version": "3.12.8"
  }
 },
 "nbformat": 4,
 "nbformat_minor": 4
}
