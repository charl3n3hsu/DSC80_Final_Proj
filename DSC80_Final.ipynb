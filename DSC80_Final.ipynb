{
 "cells": [
  {
   "cell_type": "code",
   "execution_count": 1,
   "metadata": {},
   "outputs": [
    {
     "name": "stdout",
     "output_type": "stream",
     "text": [
      "Requirement already satisfied: tabulate in /opt/anaconda3/envs/dsc80/lib/python3.12/site-packages (0.9.0)\n",
      "Note: you may need to restart the kernel to use updated packages.\n"
     ]
    }
   ],
   "source": [
    "pip install tabulate"
   ]
  },
  {
   "cell_type": "markdown",
   "metadata": {},
   "source": [
    "# Predicting Power Outages and Their Cause\n",
    "\n",
    "**Name(s)**: Ava Jeong and Charlene Hsu\n",
    "\n",
    "**Website Link**: https://github.com/charl3n3hsu/DSC80_Final_Proj"
   ]
  },
  {
   "cell_type": "code",
   "execution_count": 2,
   "metadata": {},
   "outputs": [],
   "source": [
    "import pandas as pd\n",
    "import numpy as np\n",
    "import matplotlib.pyplot as plt\n",
    "import seaborn as sns\n",
    "from matplotlib_inline.backend_inline import set_matplotlib_formats\n",
    "from IPython.display import display, IFrame, HTML\n",
    "\n",
    "import plotly\n",
    "import plotly.figure_factory as ff\n",
    "import plotly.graph_objects as go\n",
    "import plotly.express as px\n",
    "from plotly.subplots import make_subplots\n",
    "import plotly.io as pio"
   ]
  },
  {
   "cell_type": "code",
   "execution_count": 3,
   "metadata": {
    "ExecuteTime": {
     "end_time": "2019-10-31T23:36:28.652554Z",
     "start_time": "2019-10-31T23:36:27.180520Z"
    }
   },
   "outputs": [],
   "source": [
    "import pandas as pd\n",
    "import numpy as np\n",
    "from pathlib import Path\n",
    "\n",
    "import plotly.express as px\n",
    "pd.options.plotting.backend = 'plotly'\n",
    "\n",
    "from dsc80_utils import *"
   ]
  },
  {
   "cell_type": "markdown",
   "metadata": {},
   "source": [
    "## Step 1: Introduction"
   ]
  },
  {
   "cell_type": "code",
   "execution_count": 4,
   "metadata": {},
   "outputs": [],
   "source": [
    "# TODO"
   ]
  },
  {
   "cell_type": "markdown",
   "metadata": {},
   "source": [
    "## Step 2: Data Cleaning and Exploratory Data Analysis"
   ]
  },
  {
   "cell_type": "code",
   "execution_count": 5,
   "metadata": {
    "ExecuteTime": {
     "end_time": "2019-10-31T23:36:28.657068Z",
     "start_time": "2019-10-31T23:36:28.654650Z"
    }
   },
   "outputs": [
    {
     "data": {
      "text/html": [
       "<div>\n",
       "<style scoped>\n",
       "    .dataframe tbody tr th:only-of-type {\n",
       "        vertical-align: middle;\n",
       "    }\n",
       "\n",
       "    .dataframe tbody tr th {\n",
       "        vertical-align: top;\n",
       "    }\n",
       "\n",
       "    .dataframe thead th {\n",
       "        text-align: right;\n",
       "    }\n",
       "</style>\n",
       "<table border=\"1\" class=\"dataframe\">\n",
       "  <thead>\n",
       "    <tr style=\"text-align: right;\">\n",
       "      <th></th>\n",
       "      <th>variables</th>\n",
       "      <th>OBS</th>\n",
       "      <th>YEAR</th>\n",
       "      <th>MONTH</th>\n",
       "      <th>...</th>\n",
       "      <th>AREAPCT_UC</th>\n",
       "      <th>PCT_LAND</th>\n",
       "      <th>PCT_WATER_TOT</th>\n",
       "      <th>PCT_WATER_INLAND</th>\n",
       "    </tr>\n",
       "  </thead>\n",
       "  <tbody>\n",
       "    <tr>\n",
       "      <th>1</th>\n",
       "      <td>NaN</td>\n",
       "      <td>1.0</td>\n",
       "      <td>2011.0</td>\n",
       "      <td>7.0</td>\n",
       "      <td>...</td>\n",
       "      <td>0.6</td>\n",
       "      <td>91.59266587</td>\n",
       "      <td>8.407334131</td>\n",
       "      <td>5.478742983</td>\n",
       "    </tr>\n",
       "    <tr>\n",
       "      <th>2</th>\n",
       "      <td>NaN</td>\n",
       "      <td>2.0</td>\n",
       "      <td>2014.0</td>\n",
       "      <td>5.0</td>\n",
       "      <td>...</td>\n",
       "      <td>0.6</td>\n",
       "      <td>91.59266587</td>\n",
       "      <td>8.407334131</td>\n",
       "      <td>5.478742983</td>\n",
       "    </tr>\n",
       "    <tr>\n",
       "      <th>3</th>\n",
       "      <td>NaN</td>\n",
       "      <td>3.0</td>\n",
       "      <td>2010.0</td>\n",
       "      <td>10.0</td>\n",
       "      <td>...</td>\n",
       "      <td>0.6</td>\n",
       "      <td>91.59266587</td>\n",
       "      <td>8.407334131</td>\n",
       "      <td>5.478742983</td>\n",
       "    </tr>\n",
       "    <tr>\n",
       "      <th>...</th>\n",
       "      <td>...</td>\n",
       "      <td>...</td>\n",
       "      <td>...</td>\n",
       "      <td>...</td>\n",
       "      <td>...</td>\n",
       "      <td>...</td>\n",
       "      <td>...</td>\n",
       "      <td>...</td>\n",
       "      <td>...</td>\n",
       "    </tr>\n",
       "    <tr>\n",
       "      <th>1532</th>\n",
       "      <td>NaN</td>\n",
       "      <td>1532.0</td>\n",
       "      <td>2009.0</td>\n",
       "      <td>8.0</td>\n",
       "      <td>...</td>\n",
       "      <td>0.15</td>\n",
       "      <td>98.30774418</td>\n",
       "      <td>1.692255822</td>\n",
       "      <td>1.692255822</td>\n",
       "    </tr>\n",
       "    <tr>\n",
       "      <th>1533</th>\n",
       "      <td>NaN</td>\n",
       "      <td>1533.0</td>\n",
       "      <td>2009.0</td>\n",
       "      <td>8.0</td>\n",
       "      <td>...</td>\n",
       "      <td>0.15</td>\n",
       "      <td>98.30774418</td>\n",
       "      <td>1.692255822</td>\n",
       "      <td>1.692255822</td>\n",
       "    </tr>\n",
       "    <tr>\n",
       "      <th>1534</th>\n",
       "      <td>NaN</td>\n",
       "      <td>1534.0</td>\n",
       "      <td>2000.0</td>\n",
       "      <td>NaN</td>\n",
       "      <td>...</td>\n",
       "      <td>0.02</td>\n",
       "      <td>85.76115446</td>\n",
       "      <td>14.23884554</td>\n",
       "      <td>2.901181874</td>\n",
       "    </tr>\n",
       "  </tbody>\n",
       "</table>\n",
       "<p>1534 rows × 57 columns</p>\n",
       "</div>"
      ],
      "text/plain": [
       "     variables     OBS    YEAR  MONTH  ... AREAPCT_UC     PCT_LAND  \\\n",
       "1          NaN     1.0  2011.0    7.0  ...        0.6  91.59266587   \n",
       "2          NaN     2.0  2014.0    5.0  ...        0.6  91.59266587   \n",
       "3          NaN     3.0  2010.0   10.0  ...        0.6  91.59266587   \n",
       "...        ...     ...     ...    ...  ...        ...          ...   \n",
       "1532       NaN  1532.0  2009.0    8.0  ...       0.15  98.30774418   \n",
       "1533       NaN  1533.0  2009.0    8.0  ...       0.15  98.30774418   \n",
       "1534       NaN  1534.0  2000.0    NaN  ...       0.02  85.76115446   \n",
       "\n",
       "     PCT_WATER_TOT PCT_WATER_INLAND  \n",
       "1      8.407334131      5.478742983  \n",
       "2      8.407334131      5.478742983  \n",
       "3      8.407334131      5.478742983  \n",
       "...            ...              ...  \n",
       "1532   1.692255822      1.692255822  \n",
       "1533   1.692255822      1.692255822  \n",
       "1534   14.23884554      2.901181874  \n",
       "\n",
       "[1534 rows x 57 columns]"
      ]
     },
     "execution_count": 5,
     "metadata": {},
     "output_type": "execute_result"
    }
   ],
   "source": [
    "outages = pd.read_csv('outages.csv')\n",
    "outages = outages.iloc[1:]\n",
    "outages"
   ]
  },
  {
   "cell_type": "code",
   "execution_count": 6,
   "metadata": {
    "scrolled": true
   },
   "outputs": [
    {
     "data": {
      "text/plain": [
       "Index(['variables', 'OBS', 'YEAR', 'MONTH', 'U.S._STATE', 'POSTAL.CODE',\n",
       "       'NERC.REGION', 'CLIMATE.REGION', 'ANOMALY.LEVEL', 'CLIMATE.CATEGORY',\n",
       "       'OUTAGE.START.DATE', 'OUTAGE.START.TIME', 'OUTAGE.RESTORATION.DATE',\n",
       "       'OUTAGE.RESTORATION.TIME', 'CAUSE.CATEGORY', 'CAUSE.CATEGORY.DETAIL',\n",
       "       'HURRICANE.NAMES', 'OUTAGE.DURATION', 'DEMAND.LOSS.MW',\n",
       "       'CUSTOMERS.AFFECTED', 'RES.PRICE', 'COM.PRICE', 'IND.PRICE',\n",
       "       'TOTAL.PRICE', 'RES.SALES', 'COM.SALES', 'IND.SALES', 'TOTAL.SALES',\n",
       "       'RES.PERCEN', 'COM.PERCEN', 'IND.PERCEN', 'RES.CUSTOMERS',\n",
       "       'COM.CUSTOMERS', 'IND.CUSTOMERS', 'TOTAL.CUSTOMERS', 'RES.CUST.PCT',\n",
       "       'COM.CUST.PCT', 'IND.CUST.PCT', 'PC.REALGSP.STATE', 'PC.REALGSP.USA',\n",
       "       'PC.REALGSP.REL', 'PC.REALGSP.CHANGE', 'UTIL.REALGSP', 'TOTAL.REALGSP',\n",
       "       'UTIL.CONTRI', 'PI.UTIL.OFUSA', 'POPULATION', 'POPPCT_URBAN',\n",
       "       'POPPCT_UC', 'POPDEN_URBAN', 'POPDEN_UC', 'POPDEN_RURAL',\n",
       "       'AREAPCT_URBAN', 'AREAPCT_UC', 'PCT_LAND', 'PCT_WATER_TOT',\n",
       "       'PCT_WATER_INLAND'],\n",
       "      dtype='object')"
      ]
     },
     "execution_count": 6,
     "metadata": {},
     "output_type": "execute_result"
    }
   ],
   "source": [
    "outages.columns"
   ]
  },
  {
   "cell_type": "code",
   "execution_count": 7,
   "metadata": {},
   "outputs": [],
   "source": [
    "# Keeping relevant columns\n",
    "outages = outages[['YEAR', 'MONTH', 'U.S._STATE',\n",
    "       'CLIMATE.REGION', 'ANOMALY.LEVEL', 'CLIMATE.CATEGORY',\n",
    "       'OUTAGE.START.DATE', 'OUTAGE.START.TIME', 'OUTAGE.RESTORATION.DATE',\n",
    "       'OUTAGE.RESTORATION.TIME', 'CAUSE.CATEGORY', 'CAUSE.CATEGORY.DETAIL',\n",
    "       'HURRICANE.NAMES', 'OUTAGE.DURATION', 'POPULATION', 'POPPCT_URBAN',\n",
    "       'POPDEN_URBAN', 'POPDEN_UC', 'POPDEN_RURAL',\n",
    "       'AREAPCT_URBAN', 'AREAPCT_UC', 'PCT_LAND', 'PCT_WATER_TOT',\n",
    "       'PCT_WATER_INLAND']]"
   ]
  },
  {
   "cell_type": "code",
   "execution_count": 8,
   "metadata": {},
   "outputs": [
    {
     "name": "stdout",
     "output_type": "stream",
     "text": [
      "YEAR                float64\n",
      "MONTH               float64\n",
      "U.S._STATE           object\n",
      "                     ...   \n",
      "PCT_LAND             object\n",
      "PCT_WATER_TOT        object\n",
      "PCT_WATER_INLAND     object\n",
      "Length: 24, dtype: object\n",
      "Missing Values:\n",
      " MONTH               9\n",
      "CLIMATE.REGION      6\n",
      "CAUSE.CATEGORY      0\n",
      "OUTAGE.DURATION    58\n",
      "dtype: int64\n"
     ]
    }
   ],
   "source": [
    "print(outages.dtypes)\n",
    "\n",
    "missing_values = outages[['MONTH', 'CLIMATE.REGION', 'CAUSE.CATEGORY', 'OUTAGE.DURATION']].isnull().sum()\n",
    "print(\"Missing Values:\\n\", missing_values)"
   ]
  },
  {
   "cell_type": "code",
   "execution_count": 9,
   "metadata": {
    "scrolled": true
   },
   "outputs": [
    {
     "data": {
      "text/html": [
       "<div>\n",
       "<style scoped>\n",
       "    .dataframe tbody tr th:only-of-type {\n",
       "        vertical-align: middle;\n",
       "    }\n",
       "\n",
       "    .dataframe tbody tr th {\n",
       "        vertical-align: top;\n",
       "    }\n",
       "\n",
       "    .dataframe thead th {\n",
       "        text-align: right;\n",
       "    }\n",
       "</style>\n",
       "<table border=\"1\" class=\"dataframe\">\n",
       "  <thead>\n",
       "    <tr style=\"text-align: right;\">\n",
       "      <th></th>\n",
       "      <th>YEAR</th>\n",
       "      <th>MONTH</th>\n",
       "      <th>U.S._STATE</th>\n",
       "      <th>CLIMATE.REGION</th>\n",
       "      <th>...</th>\n",
       "      <th>AREAPCT_UC</th>\n",
       "      <th>PCT_LAND</th>\n",
       "      <th>PCT_WATER_TOT</th>\n",
       "      <th>PCT_WATER_INLAND</th>\n",
       "    </tr>\n",
       "  </thead>\n",
       "  <tbody>\n",
       "    <tr>\n",
       "      <th>1</th>\n",
       "      <td>2011.0</td>\n",
       "      <td>7.0</td>\n",
       "      <td>Minnesota</td>\n",
       "      <td>East North Central</td>\n",
       "      <td>...</td>\n",
       "      <td>0.6</td>\n",
       "      <td>91.59266587</td>\n",
       "      <td>8.407334131</td>\n",
       "      <td>5.478742983</td>\n",
       "    </tr>\n",
       "    <tr>\n",
       "      <th>2</th>\n",
       "      <td>2014.0</td>\n",
       "      <td>5.0</td>\n",
       "      <td>Minnesota</td>\n",
       "      <td>East North Central</td>\n",
       "      <td>...</td>\n",
       "      <td>0.6</td>\n",
       "      <td>91.59266587</td>\n",
       "      <td>8.407334131</td>\n",
       "      <td>5.478742983</td>\n",
       "    </tr>\n",
       "    <tr>\n",
       "      <th>3</th>\n",
       "      <td>2010.0</td>\n",
       "      <td>10.0</td>\n",
       "      <td>Minnesota</td>\n",
       "      <td>East North Central</td>\n",
       "      <td>...</td>\n",
       "      <td>0.6</td>\n",
       "      <td>91.59266587</td>\n",
       "      <td>8.407334131</td>\n",
       "      <td>5.478742983</td>\n",
       "    </tr>\n",
       "    <tr>\n",
       "      <th>...</th>\n",
       "      <td>...</td>\n",
       "      <td>...</td>\n",
       "      <td>...</td>\n",
       "      <td>...</td>\n",
       "      <td>...</td>\n",
       "      <td>...</td>\n",
       "      <td>...</td>\n",
       "      <td>...</td>\n",
       "      <td>...</td>\n",
       "    </tr>\n",
       "    <tr>\n",
       "      <th>1532</th>\n",
       "      <td>2009.0</td>\n",
       "      <td>8.0</td>\n",
       "      <td>South Dakota</td>\n",
       "      <td>West North Central</td>\n",
       "      <td>...</td>\n",
       "      <td>0.15</td>\n",
       "      <td>98.30774418</td>\n",
       "      <td>1.692255822</td>\n",
       "      <td>1.692255822</td>\n",
       "    </tr>\n",
       "    <tr>\n",
       "      <th>1533</th>\n",
       "      <td>2009.0</td>\n",
       "      <td>8.0</td>\n",
       "      <td>South Dakota</td>\n",
       "      <td>West North Central</td>\n",
       "      <td>...</td>\n",
       "      <td>0.15</td>\n",
       "      <td>98.30774418</td>\n",
       "      <td>1.692255822</td>\n",
       "      <td>1.692255822</td>\n",
       "    </tr>\n",
       "    <tr>\n",
       "      <th>1534</th>\n",
       "      <td>2000.0</td>\n",
       "      <td>NaN</td>\n",
       "      <td>Alaska</td>\n",
       "      <td>NaN</td>\n",
       "      <td>...</td>\n",
       "      <td>0.02</td>\n",
       "      <td>85.76115446</td>\n",
       "      <td>14.23884554</td>\n",
       "      <td>2.901181874</td>\n",
       "    </tr>\n",
       "  </tbody>\n",
       "</table>\n",
       "<p>1534 rows × 24 columns</p>\n",
       "</div>"
      ],
      "text/plain": [
       "        YEAR  MONTH    U.S._STATE      CLIMATE.REGION  ... AREAPCT_UC  \\\n",
       "1     2011.0    7.0     Minnesota  East North Central  ...        0.6   \n",
       "2     2014.0    5.0     Minnesota  East North Central  ...        0.6   \n",
       "3     2010.0   10.0     Minnesota  East North Central  ...        0.6   \n",
       "...      ...    ...           ...                 ...  ...        ...   \n",
       "1532  2009.0    8.0  South Dakota  West North Central  ...       0.15   \n",
       "1533  2009.0    8.0  South Dakota  West North Central  ...       0.15   \n",
       "1534  2000.0    NaN        Alaska                 NaN  ...       0.02   \n",
       "\n",
       "         PCT_LAND PCT_WATER_TOT PCT_WATER_INLAND  \n",
       "1     91.59266587   8.407334131      5.478742983  \n",
       "2     91.59266587   8.407334131      5.478742983  \n",
       "3     91.59266587   8.407334131      5.478742983  \n",
       "...           ...           ...              ...  \n",
       "1532  98.30774418   1.692255822      1.692255822  \n",
       "1533  98.30774418   1.692255822      1.692255822  \n",
       "1534  85.76115446   14.23884554      2.901181874  \n",
       "\n",
       "[1534 rows x 24 columns]"
      ]
     },
     "execution_count": 9,
     "metadata": {},
     "output_type": "execute_result"
    }
   ],
   "source": [
    "outages['OUTAGE.DURATION'] = pd.to_numeric(outages['OUTAGE.DURATION'], errors='coerce')\n",
    "outages['OUTAGE.DURATION'] = outages.groupby('CAUSE.CATEGORY')['OUTAGE.DURATION'].transform(lambda x: x.fillna(x.median()))\n",
    "outages"
   ]
  },
  {
   "cell_type": "code",
   "execution_count": 10,
   "metadata": {
    "scrolled": true
   },
   "outputs": [],
   "source": [
    "# Imputation\n",
    "category_mapping = outages.dropna(subset=['CAUSE.CATEGORY']).groupby('CAUSE.CATEGORY.DETAIL')['CAUSE.CATEGORY'].agg(pd.Series.mode)\n",
    "\n",
    "def infer_category(detail):\n",
    "    if pd.notna(detail) and detail in category_mapping:\n",
    "        return category_mapping[detail]\n",
    "    return None\n",
    "\n",
    "\n",
    "outages['CAUSE.CATEGORY'] = outages.apply(lambda row: infer_category(row['CAUSE.CATEGORY.DETAIL']) if pd.isna(row['CAUSE.CATEGORY']) else row['CAUSE.CATEGORY'], axis=1)\n",
    "\n",
    "outages['CAUSE.CATEGORY'] = outages['CAUSE.CATEGORY'].fillna(outages['CAUSE.CATEGORY'].mode()[0])\n",
    "\n",
    "from sklearn.impute import SimpleImputer\n",
    "def impute_missing_values(df):\n",
    "    \"\"\"\n",
    "    Fill missing values in a DataFrame with appropriate imputation for each column type.\n",
    "\n",
    "    Parameters:\n",
    "    df (pd.DataFrame): The input DataFrame with missing values.\n",
    "\n",
    "    Returns:\n",
    "    pd.DataFrame: A DataFrame with missing values imputed.\n",
    "    \"\"\"\n",
    "    df_imputed = df.copy()\n",
    "\n",
    "    numerical_columns = df_imputed.select_dtypes(include=['number']).columns\n",
    "    categorical_columns = df_imputed.select_dtypes(include=['object', 'category']).columns\n",
    "\n",
    "    if len(numerical_columns) > 0:\n",
    "        numerical_imputer = SimpleImputer(strategy='median')\n",
    "        df_imputed[numerical_columns] = numerical_imputer.fit_transform(df_imputed[numerical_columns])\n",
    "\n",
    "    if len(categorical_columns) > 0:\n",
    "        categorical_imputer = SimpleImputer(strategy='most_frequent')\n",
    "        df_imputed[categorical_columns] = categorical_imputer.fit_transform(df_imputed[categorical_columns])\n",
    "\n",
    "    return df_imputed\n",
    "\n",
    "impute_missing_values(outages)\n",
    "\n",
    "outages['MONTH'] = outages['MONTH'].fillna(outages['MONTH'].median())"
   ]
  },
  {
   "cell_type": "code",
   "execution_count": 11,
   "metadata": {},
   "outputs": [
    {
     "name": "stdout",
     "output_type": "stream",
     "text": [
      "YEAR                0\n",
      "MONTH               0\n",
      "U.S._STATE          0\n",
      "                   ..\n",
      "PCT_LAND            0\n",
      "PCT_WATER_TOT       0\n",
      "PCT_WATER_INLAND    0\n",
      "Length: 24, dtype: int64\n"
     ]
    }
   ],
   "source": [
    "print(outages.isnull().sum())"
   ]
  },
  {
   "cell_type": "code",
   "execution_count": 23,
   "metadata": {
    "scrolled": true
   },
   "outputs": [
    {
     "data": {
      "text/html": [
       "<div>\n",
       "<style scoped>\n",
       "    .dataframe tbody tr th:only-of-type {\n",
       "        vertical-align: middle;\n",
       "    }\n",
       "\n",
       "    .dataframe tbody tr th {\n",
       "        vertical-align: top;\n",
       "    }\n",
       "\n",
       "    .dataframe thead th {\n",
       "        text-align: right;\n",
       "    }\n",
       "</style>\n",
       "<table border=\"1\" class=\"dataframe\">\n",
       "  <thead>\n",
       "    <tr style=\"text-align: right;\">\n",
       "      <th></th>\n",
       "      <th>YEAR</th>\n",
       "      <th>MONTH</th>\n",
       "      <th>U.S._STATE</th>\n",
       "      <th>CLIMATE.REGION</th>\n",
       "      <th>...</th>\n",
       "      <th>AREAPCT_UC</th>\n",
       "      <th>PCT_LAND</th>\n",
       "      <th>PCT_WATER_TOT</th>\n",
       "      <th>PCT_WATER_INLAND</th>\n",
       "    </tr>\n",
       "  </thead>\n",
       "  <tbody>\n",
       "    <tr>\n",
       "      <th>1</th>\n",
       "      <td>2011.0</td>\n",
       "      <td>7.0</td>\n",
       "      <td>Minnesota</td>\n",
       "      <td>East North Central</td>\n",
       "      <td>...</td>\n",
       "      <td>0.6</td>\n",
       "      <td>91.59266587</td>\n",
       "      <td>8.407334131</td>\n",
       "      <td>5.478742983</td>\n",
       "    </tr>\n",
       "    <tr>\n",
       "      <th>2</th>\n",
       "      <td>2014.0</td>\n",
       "      <td>5.0</td>\n",
       "      <td>Minnesota</td>\n",
       "      <td>East North Central</td>\n",
       "      <td>...</td>\n",
       "      <td>0.6</td>\n",
       "      <td>91.59266587</td>\n",
       "      <td>8.407334131</td>\n",
       "      <td>5.478742983</td>\n",
       "    </tr>\n",
       "    <tr>\n",
       "      <th>3</th>\n",
       "      <td>2010.0</td>\n",
       "      <td>10.0</td>\n",
       "      <td>Minnesota</td>\n",
       "      <td>East North Central</td>\n",
       "      <td>...</td>\n",
       "      <td>0.6</td>\n",
       "      <td>91.59266587</td>\n",
       "      <td>8.407334131</td>\n",
       "      <td>5.478742983</td>\n",
       "    </tr>\n",
       "    <tr>\n",
       "      <th>4</th>\n",
       "      <td>2012.0</td>\n",
       "      <td>6.0</td>\n",
       "      <td>Minnesota</td>\n",
       "      <td>East North Central</td>\n",
       "      <td>...</td>\n",
       "      <td>0.6</td>\n",
       "      <td>91.59266587</td>\n",
       "      <td>8.407334131</td>\n",
       "      <td>5.478742983</td>\n",
       "    </tr>\n",
       "    <tr>\n",
       "      <th>5</th>\n",
       "      <td>2015.0</td>\n",
       "      <td>7.0</td>\n",
       "      <td>Minnesota</td>\n",
       "      <td>East North Central</td>\n",
       "      <td>...</td>\n",
       "      <td>0.6</td>\n",
       "      <td>91.59266587</td>\n",
       "      <td>8.407334131</td>\n",
       "      <td>5.478742983</td>\n",
       "    </tr>\n",
       "  </tbody>\n",
       "</table>\n",
       "<p>5 rows × 24 columns</p>\n",
       "</div>"
      ],
      "text/plain": [
       "     YEAR  MONTH U.S._STATE      CLIMATE.REGION  ... AREAPCT_UC     PCT_LAND  \\\n",
       "1  2011.0    7.0  Minnesota  East North Central  ...        0.6  91.59266587   \n",
       "2  2014.0    5.0  Minnesota  East North Central  ...        0.6  91.59266587   \n",
       "3  2010.0   10.0  Minnesota  East North Central  ...        0.6  91.59266587   \n",
       "4  2012.0    6.0  Minnesota  East North Central  ...        0.6  91.59266587   \n",
       "5  2015.0    7.0  Minnesota  East North Central  ...        0.6  91.59266587   \n",
       "\n",
       "  PCT_WATER_TOT PCT_WATER_INLAND  \n",
       "1   8.407334131      5.478742983  \n",
       "2   8.407334131      5.478742983  \n",
       "3   8.407334131      5.478742983  \n",
       "4   8.407334131      5.478742983  \n",
       "5   8.407334131      5.478742983  \n",
       "\n",
       "[5 rows x 24 columns]"
      ]
     },
     "execution_count": 23,
     "metadata": {},
     "output_type": "execute_result"
    }
   ],
   "source": [
    "# HEAD of DF\n",
    "\n",
    "outages.head()\n",
    "# print(outages.head().to_markdown(index=False)) Include on WEBSITE"
   ]
  },
  {
   "cell_type": "code",
   "execution_count": 29,
   "metadata": {},
   "outputs": [
    {
     "data": {
      "text/html": [
       "<iframe\n",
       "    scrolling=\"no\"\n",
       "    width=\"100%\"\n",
       "    height=\"545px\"\n",
       "    src=\"iframe_figures/figure_29.html\"\n",
       "    frameborder=\"0\"\n",
       "    allowfullscreen\n",
       "></iframe>\n"
      ]
     },
     "metadata": {},
     "output_type": "display_data"
    }
   ],
   "source": [
    "# Frequency Distribution of Climate Region\n",
    "fig1 = px.bar(outages['CLIMATE.REGION'].value_counts(), \n",
    "              title='Frequency Distribution of Climate Regions',\n",
    "              labels={'index': 'Climate Region', 'value': 'Frequency'})\n",
    "fig1.show()"
   ]
  },
  {
   "cell_type": "code",
   "execution_count": 30,
   "metadata": {
    "scrolled": true
   },
   "outputs": [
    {
     "data": {
      "text/html": [
       "<iframe\n",
       "    scrolling=\"no\"\n",
       "    width=\"100%\"\n",
       "    height=\"545px\"\n",
       "    src=\"iframe_figures/figure_30.html\"\n",
       "    frameborder=\"0\"\n",
       "    allowfullscreen\n",
       "></iframe>\n"
      ]
     },
     "metadata": {},
     "output_type": "display_data"
    }
   ],
   "source": [
    "# Boxplot of Outage Duration\n",
    "fig2 = px.box(outages, y='OUTAGE.DURATION', title='Box Plot of Outage Duration',\n",
    "              labels={'outage_duration': 'Outage Duration (hours)'})\n",
    "fig2.show()"
   ]
  },
  {
   "cell_type": "code",
   "execution_count": 31,
   "metadata": {
    "scrolled": true
   },
   "outputs": [
    {
     "data": {
      "text/html": [
       "<iframe\n",
       "    scrolling=\"no\"\n",
       "    width=\"100%\"\n",
       "    height=\"545px\"\n",
       "    src=\"iframe_figures/figure_31.html\"\n",
       "    frameborder=\"0\"\n",
       "    allowfullscreen\n",
       "></iframe>\n"
      ]
     },
     "metadata": {},
     "output_type": "display_data"
    },
    {
     "data": {
      "text/html": [
       "<iframe\n",
       "    scrolling=\"no\"\n",
       "    width=\"100%\"\n",
       "    height=\"545px\"\n",
       "    src=\"iframe_figures/figure_31.html\"\n",
       "    frameborder=\"0\"\n",
       "    allowfullscreen\n",
       "></iframe>\n"
      ]
     },
     "metadata": {},
     "output_type": "display_data"
    }
   ],
   "source": [
    "# Bivariate Analysis: Outage Duration vs. Climate Region\n",
    "fig3 = px.box(outages, x='CLIMATE.REGION', y='OUTAGE.DURATION', \n",
    "              title='Outage Duration by Climate Region',\n",
    "              labels={'climate_region': 'Climate Region', 'outage_duration': 'Outage Duration (hours)'})\n",
    "fig3.show()\n",
    "\n",
    "\n",
    "fig4 = px.strip(outages, x='CLIMATE.REGION', y='OUTAGE.DURATION', \n",
    "                title='Outage Duration by Climate Region (Scatter with Jitter)',\n",
    "                labels={'climate_region': 'Climate Region', 'outage_duration': 'Outage Duration (hours)'})\n",
    "fig4.show()"
   ]
  },
  {
   "cell_type": "code",
   "execution_count": 32,
   "metadata": {
    "collapsed": true,
    "jupyter": {
     "outputs_hidden": true
    }
   },
   "outputs": [
    {
     "data": {
      "text/html": [
       "<iframe\n",
       "    scrolling=\"no\"\n",
       "    width=\"100%\"\n",
       "    height=\"545px\"\n",
       "    src=\"iframe_figures/figure_32.html\"\n",
       "    frameborder=\"0\"\n",
       "    allowfullscreen\n",
       "></iframe>\n"
      ]
     },
     "metadata": {},
     "output_type": "display_data"
    },
    {
     "data": {
      "text/html": [
       "<iframe\n",
       "    scrolling=\"no\"\n",
       "    width=\"100%\"\n",
       "    height=\"545px\"\n",
       "    src=\"iframe_figures/figure_32.html\"\n",
       "    frameborder=\"0\"\n",
       "    allowfullscreen\n",
       "></iframe>\n"
      ]
     },
     "metadata": {},
     "output_type": "display_data"
    }
   ],
   "source": [
    "# Bivariate Analysis: Outage Duration vs. Cause Category\n",
    "fig5 = px.box(outages, x='CAUSE.CATEGORY', y='OUTAGE.DURATION', \n",
    "              title='Outage Duration by Cause Category',\n",
    "              labels={'cause_category': 'Cause Category', 'outage_duration': 'Outage Duration (hours)'})\n",
    "fig5.show()\n",
    "\n",
    "\n",
    "fig6 = px.strip(outages, x='CAUSE.CATEGORY', y='OUTAGE.DURATION', \n",
    "                title='Outage Duration by Cause Category (Scatter with Jitter)',\n",
    "                labels={'cause_category': 'Cause Category', 'outage_duration': 'Outage Duration (hours)'})\n",
    "fig6.show()"
   ]
  },
  {
   "cell_type": "code",
   "execution_count": 13,
   "metadata": {},
   "outputs": [
    {
     "data": {
      "text/html": [
       "<iframe\n",
       "    scrolling=\"no\"\n",
       "    width=\"100%\"\n",
       "    height=\"545px\"\n",
       "    src=\"iframe_figures/figure_13.html\"\n",
       "    frameborder=\"0\"\n",
       "    allowfullscreen\n",
       "></iframe>\n"
      ]
     },
     "metadata": {},
     "output_type": "display_data"
    }
   ],
   "source": [
    "# Plotting\n",
    "\n",
    "#Boxplot (BI-VARIATE)\n",
    "fig = px.box(outages, x=\"CAUSE.CATEGORY\", y=\"OUTAGE.DURATION\", \n",
    "             title=\"Distribution of Outage Duration by Cause Category\",\n",
    "             points=\"all\")  # Show all points\n",
    "\n",
    "fig.show()"
   ]
  },
  {
   "cell_type": "code",
   "execution_count": 35,
   "metadata": {},
   "outputs": [
    {
     "data": {
      "text/html": [
       "<div>\n",
       "<style scoped>\n",
       "    .dataframe tbody tr th:only-of-type {\n",
       "        vertical-align: middle;\n",
       "    }\n",
       "\n",
       "    .dataframe tbody tr th {\n",
       "        vertical-align: top;\n",
       "    }\n",
       "\n",
       "    .dataframe thead th {\n",
       "        text-align: right;\n",
       "    }\n",
       "</style>\n",
       "<table border=\"1\" class=\"dataframe\">\n",
       "  <thead>\n",
       "    <tr style=\"text-align: right;\">\n",
       "      <th>CAUSE.CATEGORY</th>\n",
       "      <th>equipment failure</th>\n",
       "      <th>fuel supply emergency</th>\n",
       "      <th>intentional attack</th>\n",
       "      <th>islanding</th>\n",
       "      <th>public appeal</th>\n",
       "      <th>severe weather</th>\n",
       "      <th>system operability disruption</th>\n",
       "    </tr>\n",
       "    <tr>\n",
       "      <th>CLIMATE.REGION</th>\n",
       "      <th></th>\n",
       "      <th></th>\n",
       "      <th></th>\n",
       "      <th></th>\n",
       "      <th></th>\n",
       "      <th></th>\n",
       "      <th></th>\n",
       "    </tr>\n",
       "  </thead>\n",
       "  <tbody>\n",
       "    <tr>\n",
       "      <th>Central</th>\n",
       "      <td>293.14</td>\n",
       "      <td>10035.25</td>\n",
       "      <td>315.53</td>\n",
       "      <td>125.33</td>\n",
       "      <td>1410.00</td>\n",
       "      <td>3238.30</td>\n",
       "      <td>2469.73</td>\n",
       "    </tr>\n",
       "    <tr>\n",
       "      <th>East North Central</th>\n",
       "      <td>26435.33</td>\n",
       "      <td>27969.00</td>\n",
       "      <td>2376.05</td>\n",
       "      <td>1.00</td>\n",
       "      <td>733.00</td>\n",
       "      <td>4434.82</td>\n",
       "      <td>2610.00</td>\n",
       "    </tr>\n",
       "    <tr>\n",
       "      <th>Northeast</th>\n",
       "      <td>215.80</td>\n",
       "      <td>14629.57</td>\n",
       "      <td>191.84</td>\n",
       "      <td>881.00</td>\n",
       "      <td>2655.00</td>\n",
       "      <td>4418.71</td>\n",
       "      <td>736.27</td>\n",
       "    </tr>\n",
       "    <tr>\n",
       "      <th>...</th>\n",
       "      <td>...</td>\n",
       "      <td>...</td>\n",
       "      <td>...</td>\n",
       "      <td>...</td>\n",
       "      <td>...</td>\n",
       "      <td>...</td>\n",
       "      <td>...</td>\n",
       "    </tr>\n",
       "    <tr>\n",
       "      <th>Southwest</th>\n",
       "      <td>113.80</td>\n",
       "      <td>2018.00</td>\n",
       "      <td>255.84</td>\n",
       "      <td>2.00</td>\n",
       "      <td>2275.00</td>\n",
       "      <td>11572.90</td>\n",
       "      <td>329.22</td>\n",
       "    </tr>\n",
       "    <tr>\n",
       "      <th>West</th>\n",
       "      <td>524.81</td>\n",
       "      <td>5250.94</td>\n",
       "      <td>857.68</td>\n",
       "      <td>214.86</td>\n",
       "      <td>2028.11</td>\n",
       "      <td>2908.30</td>\n",
       "      <td>356.41</td>\n",
       "    </tr>\n",
       "    <tr>\n",
       "      <th>West North Central</th>\n",
       "      <td>61.00</td>\n",
       "      <td>3960.00</td>\n",
       "      <td>23.50</td>\n",
       "      <td>68.20</td>\n",
       "      <td>439.50</td>\n",
       "      <td>2442.50</td>\n",
       "      <td>0.00</td>\n",
       "    </tr>\n",
       "  </tbody>\n",
       "</table>\n",
       "<p>9 rows × 7 columns</p>\n",
       "</div>"
      ],
      "text/plain": [
       "CAUSE.CATEGORY      equipment failure  fuel supply emergency  \\\n",
       "CLIMATE.REGION                                                 \n",
       "Central                        293.14               10035.25   \n",
       "East North Central           26435.33               27969.00   \n",
       "Northeast                      215.80               14629.57   \n",
       "...                               ...                    ...   \n",
       "Southwest                      113.80                2018.00   \n",
       "West                           524.81                5250.94   \n",
       "West North Central              61.00                3960.00   \n",
       "\n",
       "CAUSE.CATEGORY      intentional attack  islanding  public appeal  \\\n",
       "CLIMATE.REGION                                                     \n",
       "Central                         315.53     125.33        1410.00   \n",
       "East North Central             2376.05       1.00         733.00   \n",
       "Northeast                       191.84     881.00        2655.00   \n",
       "...                                ...        ...            ...   \n",
       "Southwest                       255.84       2.00        2275.00   \n",
       "West                            857.68     214.86        2028.11   \n",
       "West North Central               23.50      68.20         439.50   \n",
       "\n",
       "CAUSE.CATEGORY      severe weather  system operability disruption  \n",
       "CLIMATE.REGION                                                     \n",
       "Central                    3238.30                        2469.73  \n",
       "East North Central         4434.82                        2610.00  \n",
       "Northeast                  4418.71                         736.27  \n",
       "...                            ...                            ...  \n",
       "Southwest                 11572.90                         329.22  \n",
       "West                       2908.30                         356.41  \n",
       "West North Central         2442.50                           0.00  \n",
       "\n",
       "[9 rows x 7 columns]"
      ]
     },
     "execution_count": 35,
     "metadata": {},
     "output_type": "execute_result"
    }
   ],
   "source": [
    "# Pivot Tables by Mean\n",
    "\n",
    "pivot_table = pd.pivot_table(\n",
    "    outages,\n",
    "    values='OUTAGE.DURATION',  \n",
    "    index='CLIMATE.REGION',   \n",
    "    columns='CAUSE.CATEGORY', \n",
    "    aggfunc='mean',            \n",
    "    fill_value=0              \n",
    ")\n",
    "pivot_table"
   ]
  },
  {
   "cell_type": "code",
   "execution_count": 14,
   "metadata": {
    "scrolled": true
   },
   "outputs": [
    {
     "data": {
      "text/html": [
       "<iframe\n",
       "    scrolling=\"no\"\n",
       "    width=\"100%\"\n",
       "    height=\"545px\"\n",
       "    src=\"iframe_figures/figure_14.html\"\n",
       "    frameborder=\"0\"\n",
       "    allowfullscreen\n",
       "></iframe>\n"
      ]
     },
     "metadata": {},
     "output_type": "display_data"
    }
   ],
   "source": [
    "# Bar (BI_VARIATE)\n",
    "df_summary = outages.groupby(\"CAUSE.CATEGORY\")[\"OUTAGE.DURATION\"].agg([\"mean\", \"median\"]).reset_index()\n",
    "\n",
    "fig = px.bar(df_summary, x=\"CAUSE.CATEGORY\", y=[\"mean\", \"median\"], \n",
    "             title=\"Mean and Median Outage Duration by Cause Category\",\n",
    "             barmode=\"group\")\n",
    "\n",
    "fig.update_layout(xaxis_title=\"Cause Category\", yaxis_title=\"Duration (mins)\")\n",
    "fig.show()"
   ]
  },
  {
   "cell_type": "markdown",
   "metadata": {},
   "source": [
    "## Step 3: Assessment of Missingness"
   ]
  },
  {
   "cell_type": "code",
   "execution_count": 15,
   "metadata": {
    "ExecuteTime": {
     "end_time": "2019-10-31T23:36:28.662099Z",
     "start_time": "2019-10-31T23:36:28.660016Z"
    }
   },
   "outputs": [
    {
     "data": {
      "text/html": [
       "<iframe\n",
       "    scrolling=\"no\"\n",
       "    width=\"100%\"\n",
       "    height=\"545px\"\n",
       "    src=\"iframe_figures/figure_15.html\"\n",
       "    frameborder=\"0\"\n",
       "    allowfullscreen\n",
       "></iframe>\n"
      ]
     },
     "metadata": {},
     "output_type": "display_data"
    },
    {
     "name": "stdout",
     "output_type": "stream",
     "text": [
      "Observed Difference: 0.08634898930475615, P-Value: 0.001\n"
     ]
    }
   ],
   "source": [
    "# Permutation Test for Missingness\n",
    "\n",
    "def permutation_test(data, col_missing, col_test, num_permutations=1000):\n",
    "    cause_frequencies = data[col_test].value_counts(normalize=True).to_dict()\n",
    "    \n",
    "    data['CAUSE_ENCODED'] = data[col_test].map(cause_frequencies)\n",
    "    \n",
    "    observed_diff = abs(data[data[col_missing].isnull()]['CAUSE_ENCODED'].mean() -\n",
    "                        data[~data[col_missing].isnull()]['CAUSE_ENCODED'].mean())\n",
    "    \n",
    "    perm_diffs = []\n",
    "    for _ in range(num_permutations):\n",
    "        shuffled = data['CAUSE_ENCODED'].sample(frac=1, replace=False).reset_index(drop=True)\n",
    "        perm_diff = abs(data[data[col_missing].isnull()].index.to_series().map(shuffled).mean() -\n",
    "                        data[~data[col_missing].isnull()].index.to_series().map(shuffled).mean())\n",
    "        perm_diffs.append(perm_diff)\n",
    "    \n",
    "    p_value = np.mean(np.array(perm_diffs) >= observed_diff)\n",
    "    \n",
    "    fig = px.histogram(perm_diffs, nbins=30, title=f'Permutation Test for Missingness in {col_missing}', \n",
    "                       labels={'value': 'Test Statistic (Mean Difference)'}, opacity=0.7)\n",
    "    fig.add_vline(x=observed_diff, line_dash='dash', line_color='red', annotation_text='Observed Difference')\n",
    "    fig.show()\n",
    "    \n",
    "    return observed_diff, p_value\n",
    "\n",
    "df = pd.read_csv('outages.csv').iloc[1:]\n",
    "df['OUTAGE.DURATION'] = pd.to_numeric(df['OUTAGE.DURATION'], errors='coerce')\n",
    "observed_diff, p_value = permutation_test(df, 'OUTAGE.DURATION', 'CAUSE.CATEGORY')\n",
    "print(f\"Observed Difference: {observed_diff}, P-Value: {p_value}\")"
   ]
  },
  {
   "cell_type": "markdown",
   "metadata": {},
   "source": [
    "## Step 4: Hypothesis Testing"
   ]
  },
  {
   "cell_type": "code",
   "execution_count": 16,
   "metadata": {
    "ExecuteTime": {
     "end_time": "2019-10-31T23:36:28.666489Z",
     "start_time": "2019-10-31T23:36:28.664381Z"
    }
   },
   "outputs": [
    {
     "name": "stdout",
     "output_type": "stream",
     "text": [
      "Kruskal-Wallis Test Statistic: 700.6054239816652, P-Value: 4.526908484457232e-148\n"
     ]
    },
    {
     "data": {
      "text/html": [
       "<iframe\n",
       "    scrolling=\"no\"\n",
       "    width=\"100%\"\n",
       "    height=\"545px\"\n",
       "    src=\"iframe_figures/figure_16.html\"\n",
       "    frameborder=\"0\"\n",
       "    allowfullscreen\n",
       "></iframe>\n"
      ]
     },
     "metadata": {},
     "output_type": "display_data"
    }
   ],
   "source": [
    "from scipy.stats import kruskal\n",
    "\n",
    "# Drop rows with missing values in the columns of interest\n",
    "outages_clean = outages.dropna(subset=['CAUSE.CATEGORY', 'OUTAGE.DURATION'])\n",
    "\n",
    "# Group outage durations by cause category\n",
    "groups = [group['OUTAGE.DURATION'].values for name, group in outages_clean.groupby('CAUSE.CATEGORY')]\n",
    "\n",
    "# Perform Kruskal-Wallis test\n",
    "statistic, p_value = kruskal(*groups)\n",
    "\n",
    "print(f\"Kruskal-Wallis Test Statistic: {statistic}, P-Value: {p_value}\")\n",
    "\n",
    "# Create a violin plot\n",
    "fig = px.violin(outages_clean, x=\"CAUSE.CATEGORY\", y=\"OUTAGE.DURATION\", \n",
    "                title=\"Distribution of Outage Durations by Cause Category\",\n",
    "                box=True, points=\"all\", hover_data=outages_clean.columns)\n",
    "\n",
    "# Update layout\n",
    "fig.update_layout(xaxis_title=\"Cause Category\", yaxis_title=\"Outage Duration (mins)\")\n",
    "fig.show()"
   ]
  },
  {
   "cell_type": "code",
   "execution_count": 52,
   "metadata": {},
   "outputs": [],
   "source": [
    "# Permutation Test\n",
    "def permutation_test_missingness(df, column_to_test, missingness_column, n_permutations=1000):\n",
    "    \"\"\"\n",
    "    Perform a permutation test to check if the missingness of a column depends on another column.\n",
    "\n",
    "    Parameters:\n",
    "    df (pd.DataFrame): The input DataFrame.\n",
    "    column_to_test (str): The column to test for dependency on missingness.\n",
    "    missingness_column (str): The missingness indicator column.\n",
    "    n_permutations (int): Number of permutations to perform.\n",
    "\n",
    "    Returns:\n",
    "    float: The p-value of the permutation test.\n",
    "    \"\"\"\n",
    "    grouped = df.groupby(column_to_test)[missingness_column].mean()\n",
    "    observed_tvd = np.abs(grouped.diff().dropna()).sum() / 2\n",
    "\n",
    "    # Permutation test\n",
    "    tvds = []\n",
    "    for n in range(n_permutations):\n",
    "        shuffled = df.assign(Shuffled=np.random.permutation(df[missingness_column]))\n",
    "\n",
    "        shuffled_grouped = shuffled.groupby(column_to_test)['Shuffled'].mean()\n",
    "        shuffled_tvd = np.abs(shuffled_grouped.diff().dropna()).sum() / 2\n",
    "        tvds.append(shuffled_tvd)\n",
    "\n",
    "    p_value = (np.array(tvds) >= observed_tvd).mean()\n",
    "\n",
    "    return observed_tvd, tvds, p_value"
   ]
  },
  {
   "cell_type": "code",
   "execution_count": 53,
   "metadata": {},
   "outputs": [
    {
     "data": {
      "text/html": [
       "<iframe\n",
       "    scrolling=\"no\"\n",
       "    width=\"100%\"\n",
       "    height=\"545px\"\n",
       "    src=\"iframe_figures/figure_53.html\"\n",
       "    frameborder=\"0\"\n",
       "    allowfullscreen\n",
       "></iframe>\n"
      ]
     },
     "metadata": {},
     "output_type": "display_data"
    }
   ],
   "source": [
    "# Perform the test for climate_region\n",
    "observed_tvd, tvds, _ = permutation_test_missingness(outages, 'CLIMATE.REGION', 'OUTAGE.DURATION')\n",
    "\n",
    "# Plot the empirical distribution of TVD\n",
    "fig = px.histogram(tvds, nbins=30, labels={'value': 'TVD'}, title='Empirical Distribution of TVD under Null Hypothesis')\n",
    "fig.add_vline(x=observed_tvd, line_dash=\"dash\", line_color=\"red\", annotation_text=\"Observed TVD\", annotation_position=\"top right\")\n",
    "fig.update_layout(xaxis_title=\"TVD\", yaxis_title=\"Frequency\", showlegend=False)\n",
    "fig.show()"
   ]
  },
  {
   "cell_type": "code",
   "execution_count": 54,
   "metadata": {},
   "outputs": [
    {
     "data": {
      "text/html": [
       "<iframe\n",
       "    scrolling=\"no\"\n",
       "    width=\"100%\"\n",
       "    height=\"545px\"\n",
       "    src=\"iframe_figures/figure_54.html\"\n",
       "    frameborder=\"0\"\n",
       "    allowfullscreen\n",
       "></iframe>\n"
      ]
     },
     "metadata": {},
     "output_type": "display_data"
    }
   ],
   "source": [
    "# Perform the test for cause_category\n",
    "observed_tvd, tvds, _ = permutation_test_missingness(outages, 'CAUSE.CATEGORY', 'OUTAGE.DURATION')\n",
    "\n",
    "# Plot the empirical distribution of TVD\n",
    "fig = px.histogram(tvds, nbins=30, labels={'value': 'TVD'}, title='Empirical Distribution of TVD under Null Hypothesis')\n",
    "fig.add_vline(x=observed_tvd, line_dash=\"dash\", line_color=\"red\", annotation_text=\"Observed TVD\", annotation_position=\"top right\")\n",
    "fig.update_layout(xaxis_title=\"TVD\", yaxis_title=\"Frequency\", showlegend=False)\n",
    "fig.show()"
   ]
  },
  {
   "cell_type": "markdown",
   "metadata": {},
   "source": [
    "## Step 5: Framing a Prediction Problem"
   ]
  },
  {
   "cell_type": "code",
   "execution_count": 18,
   "metadata": {
    "ExecuteTime": {
     "end_time": "2019-10-31T23:36:28.657068Z",
     "start_time": "2019-10-31T23:36:28.654650Z"
    }
   },
   "outputs": [],
   "source": [
    "# TODO"
   ]
  },
  {
   "cell_type": "markdown",
   "metadata": {},
   "source": [
    "## Step 6: Baseline Model"
   ]
  },
  {
   "cell_type": "code",
   "execution_count": 19,
   "metadata": {
    "ExecuteTime": {
     "end_time": "2019-10-31T23:36:28.662099Z",
     "start_time": "2019-10-31T23:36:28.660016Z"
    }
   },
   "outputs": [],
   "source": [
    "# TODO"
   ]
  },
  {
   "cell_type": "markdown",
   "metadata": {},
   "source": [
    "## Step 7: Final Model"
   ]
  },
  {
   "cell_type": "code",
   "execution_count": 20,
   "metadata": {
    "ExecuteTime": {
     "end_time": "2019-10-31T23:36:28.662099Z",
     "start_time": "2019-10-31T23:36:28.660016Z"
    }
   },
   "outputs": [],
   "source": [
    "# TODO"
   ]
  },
  {
   "cell_type": "markdown",
   "metadata": {},
   "source": [
    "## Step 8: Fairness Analysis"
   ]
  },
  {
   "cell_type": "code",
   "execution_count": 21,
   "metadata": {
    "ExecuteTime": {
     "end_time": "2019-10-31T23:36:28.666489Z",
     "start_time": "2019-10-31T23:36:28.664381Z"
    }
   },
   "outputs": [],
   "source": [
    "# TODO"
   ]
  }
 ],
 "metadata": {
  "kernelspec": {
   "display_name": "Python 3 (ipykernel)",
   "language": "python",
   "name": "python3"
  },
  "language_info": {
   "codemirror_mode": {
    "name": "ipython",
    "version": 3
   },
   "file_extension": ".py",
   "mimetype": "text/x-python",
   "name": "python",
   "nbconvert_exporter": "python",
   "pygments_lexer": "ipython3",
   "version": "3.12.8"
  }
 },
 "nbformat": 4,
 "nbformat_minor": 4
}
